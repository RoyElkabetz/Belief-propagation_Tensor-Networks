{
 "cells": [
  {
   "cell_type": "code",
   "execution_count": 1,
   "metadata": {},
   "outputs": [],
   "source": [
    "import numpy as np\n",
    "import random\n",
    "import time\n",
    "import matplotlib.pyplot as plt\n",
    "import matplotlib._color_data as mcd\n",
    "color_list = ['salmon', 'limegreen', 'mediumturquoise', 'cornflowerblue', 'fuchsia', 'khaki']\n",
    "\n",
    "import copy as cp\n",
    "import pickle\n",
    "import pandas as pd\n",
    "from ipywidgets import IntProgress\n",
    "from IPython.display import display\n",
    "\n",
    "\n",
    "import RandomPEPS as rpeps\n",
    "import StructureMatrixGenerator as smg\n",
    "import trivialSimpleUpdate as tsu\n",
    "import DoubleEdgeFactorGraphs as defg\n",
    "import SimpleUpdate as su\n",
    "import bmpslib as bmps"
   ]
  },
  {
   "cell_type": "markdown",
   "metadata": {},
   "source": [
    "## Bethe free energy PEPS calculations"
   ]
  },
  {
   "cell_type": "markdown",
   "metadata": {},
   "source": [
    "In this code we will initialize a random quantum state with a random $N\\times M$ PEPS and ivolve it with imaginary time (ITE) according to the **Antiferromagnetic Heisenberd Hamiltonian**\n",
    "\n",
    "$\n",
    "\\begin{align}\n",
    "H = J\\sum_{\\langle i,j \\rangle} \\mathbf{S}_i\\cdot \\mathbf{S}_j\n",
    "\\end{align}\n",
    "$\n",
    "\n",
    "with $J = -1$. Then, after the PEPS converges to a ground-state representation transform the PEPS tensor network into its dual **Double-Edge Factor Graph (DEFG)** and run BP until it reaches a fixed point. Using the fixed point messages we calculate the factor and node beliefs and then using calculate the Bethe free energy following the next formula:\n",
    "\n",
    "$\n",
    "\\begin{align}\n",
    "F_{Bethe}[q] &=\\sum_{\\alpha}\\langle \\log \\left(\\frac{q_{\\alpha}(\\mathbf{x}_{\\alpha})}{f_{\\alpha}(\\mathbf{x}_{\\alpha})} \\right) \\rangle_q +  \\sum_{i} (1-d_i)\\langle  \\log(q_i(x_i))\\rangle_q\n",
    "\\end{align}\n",
    "$\n",
    "\n",
    "where $q_{\\alpha}(\\mathbf{x}_{\\alpha}), q_i(x_i)$ are the factor and node beliefs (approximated marginal) respectively and $d_i$ indicates the number of factor naighbors of the $i^{th}$ node."
   ]
  },
  {
   "cell_type": "code",
   "execution_count": null,
   "metadata": {},
   "outputs": [],
   "source": [
    "# SU and BP parameters\n",
    "N, M = 4, 4                                                 # NxM PEPS\n",
    "bc = 'open'                                                   # boundary conditions\n",
    "dw = 1e-6                                                     # maximal error allowed between two-body RDMS\n",
    "d = 2                                                         # tensor network physical bond dimension\n",
    "bond_dimension = 2                                   # maximal virtual bond dimensions allowed for truncation\n",
    "t_max = 100                                                   # maximal number of BP iterations\n",
    "epsilon = 1e-6                                              # convergence criteria for BP messages (not used)\n",
    "dumping = 0.2                                                  # BP messages dumping between [0, 1]\n",
    "iterations = 100                                              # maximal number of tSU iterations\n",
    "BPU_iterations = 100                                          # maximal number of BPU iterations\n",
    "num_experiments = 1                                          # number of random experiments for each bond dimension\n",
    "smat, _ = smg.finitePEPSobcStructureMatrixGenerator(N, M)     # generating the PEPS structure matrix\n",
    "tensors, weights = smg.randomTensornetGenerator(smat, d, D_max)\n",
    "n, m = smat.shape"
   ]
  },
  {
   "cell_type": "code",
   "execution_count": null,
   "metadata": {},
   "outputs": [],
   "source": [
    "# ITE parameters\n",
    "Z = np.array([[1, 0], [0, -1]])\n",
    "Y = np.array([[0, -1j], [1j, 0]])\n",
    "X = np.array([[0, 1], [1, 0]])\n",
    "Sz = 0.5 * Z\n",
    "Sy = 0.5 * Y\n",
    "Sx = 0.5 * X\n",
    "Opi = [Sx, Sy, Sz]\n",
    "Opj = [Sx, Sy, Sz]\n",
    "Op_field = np.eye(d)\n",
    "interactionConstants = [-1] * m\n",
    "timeStep = [0.1, 0.05, 0.01, 0.005, 0.001]"
   ]
  },
  {
   "cell_type": "code",
   "execution_count": null,
   "metadata": {},
   "outputs": [],
   "source": [
    "# run the Simple Update algorithm\n",
    "for dt in timeStep:\n",
    "    for i in range(iterations):\n",
    "        weights_prev = cp.deepcopy(weights)\n",
    "        tensors_next, weights_next = su.simpleUpdate(tensors,\n",
    "                                                     weights,\n",
    "                                                     dt,\n",
    "                                                     interactionConstants,\n",
    "                                                     0,\n",
    "                                                     Opi,\n",
    "                                                     Opj,\n",
    "                                                     Op_field,\n",
    "                                                     smat,\n",
    "                                                     Bond_dimension,\n",
    "                                                     'SU')\n",
    "        if np.sum(np.abs(np.asarray(weights_prev) - np.asarray(weights_next))) < dt * 1e-2:\n",
    "            tensors = tensors_next\n",
    "            weights = weights_next\n",
    "            break\n",
    "        tensors = tensors_next\n",
    "        weights = weights_next"
   ]
  },
  {
   "cell_type": "code",
   "execution_count": null,
   "metadata": {},
   "outputs": [],
   "source": [
    "# run few iterations of trivial Simple Update algorithm in order to get the \"quasi-canonical\" PEPS representation\n",
    "# of the AFH ground-state\n",
    "errors = []\n",
    "for i in range(iterations):\n",
    "    weights_prev = cp.deepcopy(weights)\n",
    "    tensors_next, weights_next = tsu.trivialsimpleUpdate(tensors,\n",
    "                                                         weights,\n",
    "                                                         smat,\n",
    "                                                         D_max)\n",
    "    error = np.sum(np.abs(np.asarray(weights) - np.asarray(weights_next)))\n",
    "    errors.append(error)\n",
    "    if error < dw:\n",
    "        print('The final error is: {} in {} iterations'.format(error, i))\n",
    "        tensors = tensors_next\n",
    "        weights = weights_next\n",
    "        break\n",
    "    tensors = tensors_next\n",
    "    weights = weights_next"
   ]
  },
  {
   "cell_type": "code",
   "execution_count": null,
   "metadata": {},
   "outputs": [],
   "source": [
    "# save the fixed-point Tensor Net\n",
    "tensors_fixedPoint = cp.deepcopy(tensors)\n",
    "weights_fixedPoint = cp.deepcopy(weights)"
   ]
  },
  {
   "cell_type": "code",
   "execution_count": null,
   "metadata": {},
   "outputs": [],
   "source": [
    "# constructing the dual double-edge factor graph and run BP until it converge\n",
    "graph = defg.defg()\n",
    "graph = su.TNtoDEFGtransform(graph, tensors, weights, smat)\n",
    "graph.sumProduct(t_max, epsilon, dumping, initializeMessages=1, printTime=1, RDMconvergence=0)"
   ]
  },
  {
   "cell_type": "code",
   "execution_count": null,
   "metadata": {},
   "outputs": [],
   "source": [
    "# calculate the DEFG node and factor beliefs\n",
    "graph.calculateFactorsBeliefs()\n",
    "graph.calculateNodesBeliefs()"
   ]
  },
  {
   "cell_type": "code",
   "execution_count": null,
   "metadata": {},
   "outputs": [],
   "source": [
    "# calculate the Bethe free energy\n",
    "def Bethe_Free_Energy(defg):\n",
    "    factors = defg.factors\n",
    "    nodes = defg.nodes\n",
    "    \n",
    "    factorBeliefs = defg.factorsBeliefs\n",
    "    nodeBeliefs = defg.nodesBeliefs\n",
    "    \n",
    "    Bethe_energy_term = 0\n",
    "    Bethe_entropy_term = 0\n",
    "    \n",
    "    for f in factors.keys():\n",
    "        factor = factors[f][1]\n",
    "        fbelief = factorBeliefs[f]\n",
    "        Bethe_energy_term += np.sum(fbelief * np.log10(fbelief / factor))\n",
    "    for n in nodes.keys():\n",
    "        d_n = len(nodes[n][1])\n",
    "        nbelief = nodeBeliefs(n)\n",
    "        Bethe_entropy_term += (1 - d_n) * np.sum(nbelief * np.log10(nbelief))\n",
    "        \n",
    "    return Bethe_energy_term + Bethe_entropy_term"
   ]
  },
  {
   "cell_type": "code",
   "execution_count": null,
   "metadata": {},
   "outputs": [],
   "source": [
    "bethe = Bethe_Free_Energy(graph)\n",
    "print(bethe)"
   ]
  }
 ],
 "metadata": {
  "kernelspec": {
   "display_name": "Python 3",
   "language": "python",
   "name": "python3"
  },
  "language_info": {
   "codemirror_mode": {
    "name": "ipython",
    "version": 3
   },
   "file_extension": ".py",
   "mimetype": "text/x-python",
   "name": "python",
   "nbconvert_exporter": "python",
   "pygments_lexer": "ipython3",
   "version": "3.7.6"
  }
 },
 "nbformat": 4,
 "nbformat_minor": 4
}
