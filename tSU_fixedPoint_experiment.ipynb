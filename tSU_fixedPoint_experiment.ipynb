{
 "cells": [
  {
   "cell_type": "code",
   "execution_count": 2,
   "metadata": {},
   "outputs": [],
   "source": [
    "import numpy as np\n",
    "import time\n",
    "import copy as cp\n",
    "\n",
    "import DoubleEdgeFactorGraphs as defg\n",
    "import ncon \n",
    "import ncon_lists_generator as ncon_gen\n",
    "import SimpleUpdate as su\n",
    "import bmpslib as bmps\n",
    "import StructureMatrixGenerator as smg"
   ]
  },
  {
   "cell_type": "markdown",
   "metadata": {},
   "source": [
    "![tree Tensor Network](./images/treeTN-1.png) "
   ]
  },
  {
   "cell_type": "code",
   "execution_count": null,
   "metadata": {},
   "outputs": [],
   "source": [
    "# Tree Tensor Network structure matrix\n",
    "smat = [[1, 0, 0, 0, 0, 0, 0, 0, 0, 0, 0, 0, 0], \n",
    "        [2, 1, 3, 0, 0, 0, 0, 0, 0, 0, 0, 0, 0],\n",
    "        [0, 1, 0, 0, 0, 0, 0, 0, 0, 0, 0, 0, 0],\n",
    "        [0, 0, 2, 1, 0, 0, 3, 0, 0, 0, 0, 0, 0],\n",
    "        [0, 0, 3, 2, 1, 0, 0, 0, 0, 0, 0, 0, 0],\n",
    "        [0, 0, 0, 0, 1, 0, 0, 0, 0, 0, 0, 0, 0],\n",
    "        [0, 0, 0, 0, 0, 1, 0, 0, 0, 0, 0, 0, 0], \n",
    "        [0, 0, 0, 0, 0, 0, 1, 2, 3, 0, 0, 0, 0],\n",
    "        [0, 0, 0, 0, 0, 0, 0, 1, 0, 2, 3, 0, 0],\n",
    "        [0, 0, 0, 0, 0, 0, 0, 0, 0, 1, 0, 0, 0],\n",
    "        [0, 0, 0, 0, 0, 0, 0, 0, 0, 0, 1, 0, 0],\n",
    "        [0, 0, 0, 0, 0, 0, 0, 0, 1, 0, 0, 2, 3],\n",
    "        [0, 0, 0, 0, 0, 0, 0, 0, 0, 0, 0, 1, 0],\n",
    "        [0, 0, 0, 0, 0, 0, 0, 0, 0, 0, 0, 0, 1]]\n",
    "smat = np.asarray(smat)"
   ]
  },
  {
   "cell_type": "code",
   "execution_count": 14,
   "metadata": {},
   "outputs": [],
   "source": [
    "# PEPS genrator\n",
    "N = 4\n",
    "smat, _ = smg.squareFinitePEPSpbcStructureMatrixGenerator(N)"
   ]
  },
  {
   "cell_type": "code",
   "execution_count": 15,
   "metadata": {},
   "outputs": [
    {
     "name": "stdout",
     "output_type": "stream",
     "text": [
      "Tensor Network\n",
      "# tensors: 4\n",
      "# edges: 8\n"
     ]
    }
   ],
   "source": [
    "print('Tensor Network\\n# tensors: {}\\n# edges: {}'.format(smat.shape[0], smat.shape[1]))\n",
    "\n",
    "# Bond dimensions\n",
    "d = 2\n",
    "D = 3\n",
    "\n",
    "# random tensors and weights\n",
    "tensors, lambdas = smg.randomTensornetGenerator(smat, d, D)"
   ]
  },
  {
   "cell_type": "code",
   "execution_count": 18,
   "metadata": {},
   "outputs": [
    {
     "ename": "TypeError",
     "evalue": "bad operand type for unary -: 'list'",
     "output_type": "error",
     "traceback": [
      "\u001b[0;31m---------------------------------------------------------------------------\u001b[0m",
      "\u001b[0;31mTypeError\u001b[0m                                 Traceback (most recent call last)",
      "\u001b[0;32m<ipython-input-18-e92b4b267f49>\u001b[0m in \u001b[0;36m<module>\u001b[0;34m\u001b[0m\n\u001b[1;32m     21\u001b[0m                                         \u001b[0mD\u001b[0m\u001b[0;34m,\u001b[0m\u001b[0;34m\u001b[0m\u001b[0;34m\u001b[0m\u001b[0m\n\u001b[1;32m     22\u001b[0m                                         \u001b[0;34m'SU'\u001b[0m\u001b[0;34m,\u001b[0m\u001b[0;34m\u001b[0m\u001b[0;34m\u001b[0m\u001b[0m\n\u001b[0;32m---> 23\u001b[0;31m                                         graph=None)\n\u001b[0m\u001b[1;32m     24\u001b[0m     \u001b[0mprint\u001b[0m\u001b[0;34m(\u001b[0m\u001b[0mi\u001b[0m\u001b[0;34m,\u001b[0m \u001b[0mlambdas\u001b[0m\u001b[0;34m[\u001b[0m\u001b[0;36m6\u001b[0m\u001b[0;34m]\u001b[0m\u001b[0;34m)\u001b[0m\u001b[0;34m\u001b[0m\u001b[0;34m\u001b[0m\u001b[0m\n",
      "\u001b[0;32m~/Git/QBPmodule/SimpleUpdate.py\u001b[0m in \u001b[0;36msimpleUpdate\u001b[0;34m(tensors, weights, timeStep, interactionConst, fieldConst, iOperators, jOperators, fieldOperators, smat, Dmax, type, graph)\u001b[0m\n\u001b[1;32m     93\u001b[0m                                        \u001b[0miOperators\u001b[0m\u001b[0;34m,\u001b[0m\u001b[0;34m\u001b[0m\u001b[0;34m\u001b[0m\u001b[0m\n\u001b[1;32m     94\u001b[0m                                        \u001b[0mjOperators\u001b[0m\u001b[0;34m,\u001b[0m\u001b[0;34m\u001b[0m\u001b[0;34m\u001b[0m\u001b[0m\n\u001b[0;32m---> 95\u001b[0;31m                                        fieldOperators)  # (Q1, i', j', Q2)\n\u001b[0m\u001b[1;32m     96\u001b[0m \u001b[0;34m\u001b[0m\u001b[0m\n\u001b[1;32m     97\u001b[0m         \u001b[0;31m# Obtain R', L', lambda'_k tensors by applying an SVD to theta\u001b[0m\u001b[0;34m\u001b[0m\u001b[0;34m\u001b[0m\u001b[0;34m\u001b[0m\u001b[0m\n",
      "\u001b[0;32m~/Git/QBPmodule/SimpleUpdate.py\u001b[0m in \u001b[0;36mimaginaryTimeEvolution\u001b[0;34m(iTensor, jTensor, middleWeightVector, commonEdge, timeStep, interactionConst, fieldConst, iOperators, jOperators, fieldOperators)\u001b[0m\n\u001b[1;32m    422\u001b[0m                   - 0.25 * fieldConst * (np.kron(np.eye(d), fieldOperators)\n\u001b[1;32m    423\u001b[0m                   + np.kron(fieldOperators, np.eye(d)))  # 0.25 is for square lattice\n\u001b[0;32m--> 424\u001b[0;31m     \u001b[0munitaryGate\u001b[0m \u001b[0;34m=\u001b[0m \u001b[0mnp\u001b[0m\u001b[0;34m.\u001b[0m\u001b[0mreshape\u001b[0m\u001b[0;34m(\u001b[0m\u001b[0mlinalg\u001b[0m\u001b[0;34m.\u001b[0m\u001b[0mexpm\u001b[0m\u001b[0;34m(\u001b[0m\u001b[0;34m-\u001b[0m\u001b[0mtimeStep\u001b[0m \u001b[0;34m*\u001b[0m \u001b[0mHamiltonian\u001b[0m\u001b[0;34m)\u001b[0m\u001b[0;34m,\u001b[0m \u001b[0;34m[\u001b[0m\u001b[0md\u001b[0m\u001b[0;34m,\u001b[0m \u001b[0md\u001b[0m\u001b[0;34m,\u001b[0m \u001b[0md\u001b[0m\u001b[0;34m,\u001b[0m \u001b[0md\u001b[0m\u001b[0;34m]\u001b[0m\u001b[0;34m)\u001b[0m\u001b[0;34m\u001b[0m\u001b[0;34m\u001b[0m\u001b[0m\n\u001b[0m\u001b[1;32m    425\u001b[0m     \u001b[0mweightMatrix\u001b[0m \u001b[0;34m=\u001b[0m \u001b[0mnp\u001b[0m\u001b[0;34m.\u001b[0m\u001b[0mdiag\u001b[0m\u001b[0;34m(\u001b[0m\u001b[0mmiddleWeightVector\u001b[0m\u001b[0;34m)\u001b[0m\u001b[0;34m\u001b[0m\u001b[0;34m\u001b[0m\u001b[0m\n\u001b[1;32m    426\u001b[0m     \u001b[0mA\u001b[0m \u001b[0;34m=\u001b[0m \u001b[0mnp\u001b[0m\u001b[0;34m.\u001b[0m\u001b[0meinsum\u001b[0m\u001b[0;34m(\u001b[0m\u001b[0miTensor\u001b[0m\u001b[0;34m,\u001b[0m \u001b[0;34m[\u001b[0m\u001b[0;36m0\u001b[0m\u001b[0;34m,\u001b[0m \u001b[0;36m1\u001b[0m\u001b[0;34m,\u001b[0m \u001b[0;36m2\u001b[0m\u001b[0;34m]\u001b[0m\u001b[0;34m,\u001b[0m \u001b[0mweightMatrix\u001b[0m\u001b[0;34m,\u001b[0m \u001b[0;34m[\u001b[0m\u001b[0;36m1\u001b[0m\u001b[0;34m,\u001b[0m \u001b[0;36m3\u001b[0m\u001b[0;34m]\u001b[0m\u001b[0;34m,\u001b[0m \u001b[0;34m[\u001b[0m\u001b[0;36m0\u001b[0m\u001b[0;34m,\u001b[0m \u001b[0;36m3\u001b[0m\u001b[0;34m,\u001b[0m \u001b[0;36m2\u001b[0m\u001b[0;34m]\u001b[0m\u001b[0;34m)\u001b[0m           \u001b[0;31m# A.shape = (d(i), Weight_Vector, Q1)\u001b[0m\u001b[0;34m\u001b[0m\u001b[0;34m\u001b[0m\u001b[0m\n",
      "\u001b[0;31mTypeError\u001b[0m: bad operand type for unary -: 'list'"
     ]
    }
   ],
   "source": [
    "# Run trivial Simple Update\n",
    "ioperator = [np.eye(d)]\n",
    "joperator = [np.eye(d)]\n",
    "filedOperator = [np.eye(d)]\n",
    "fieldCoeff = 0\n",
    "interactionCoeffs = [1] * smat.shape[1]\n",
    "dt = [0.1]\n",
    "\n",
    "\n",
    "# Run\n",
    "for i in range(10):\n",
    "    tensors, lambdas = su.simpleUpdate(tensors,\n",
    "                                        lambdas,\n",
    "                                        dt,\n",
    "                                        interactionCoeffs,\n",
    "                                        fieldCoeff,\n",
    "                                        ioperator,\n",
    "                                        joperator,\n",
    "                                        filedOperator,\n",
    "                                        smat,\n",
    "                                        D,\n",
    "                                        'SU',\n",
    "                                        graph=None)\n",
    "    print(i, lambdas[6])    "
   ]
  },
  {
   "cell_type": "code",
   "execution_count": null,
   "metadata": {},
   "outputs": [],
   "source": [
    "\n"
   ]
  }
 ],
 "metadata": {
  "kernelspec": {
   "display_name": "Python 3",
   "language": "python",
   "name": "python3"
  },
  "language_info": {
   "codemirror_mode": {
    "name": "ipython",
    "version": 3
   },
   "file_extension": ".py",
   "mimetype": "text/x-python",
   "name": "python",
   "nbconvert_exporter": "python",
   "pygments_lexer": "ipython3",
   "version": "3.7.6"
  }
 },
 "nbformat": 4,
 "nbformat_minor": 4
}
