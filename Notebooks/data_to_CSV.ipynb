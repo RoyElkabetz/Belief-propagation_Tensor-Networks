{
 "cells": [
  {
   "cell_type": "code",
   "execution_count": 1,
   "metadata": {},
   "outputs": [
    {
     "name": "stdout",
     "output_type": "stream",
     "text": [
      "2020-07-30\n"
     ]
    }
   ],
   "source": [
    "import numpy as np\n",
    "import random\n",
    "import time\n",
    "import matplotlib.pyplot as plt\n",
    "import matplotlib._color_data as mcd\n",
    "color_list = ['salmon', 'mediumturquoise', 'limegreen', 'cornflowerblue', 'fuchsia', 'khaki']\n",
    "\n",
    "import copy as cp\n",
    "import pickle\n",
    "import os\n",
    "import pandas as pd\n",
    "from ipywidgets import IntProgress\n",
    "from IPython.display import display\n",
    "from datetime import date\n",
    "#import pylustrator\n",
    "#pylustrator.start()\n",
    "\n",
    "\n",
    "import RandomPEPS as rpeps\n",
    "import StructureMatrixGenerator as smg\n",
    "import trivialSimpleUpdate as tsu\n",
    "import DoubleEdgeFactorGraphs as defg\n",
    "import SimpleUpdate as su\n",
    "import bmpslib as bmps\n",
    "print(date.today())"
   ]
  },
  {
   "cell_type": "code",
   "execution_count": 2,
   "metadata": {},
   "outputs": [
    {
     "name": "stdout",
     "output_type": "stream",
     "text": [
      "data4x4_AFH_ground_state_PEPS_uniform_random_couplings_19Jul20.npy\n",
      "data4x4_random_PEPS.npy\n",
      "data4x4_AFH_ground_state_PEPS.npy\n",
      "data10x10_random_PEPS.npy\n",
      "data4x4_random_PEPS_2020-07-27.npy\n",
      "data10x10_AFH_ground_state_PEPS.npy\n",
      "data4x4_AFH_PEPS_with_random_couplings_2020-07-28.npy\n",
      "data4x4_AFH_PEPS_with_random_couplings_2020-07-30.npy\n",
      "data10x10_random_PEPS_2020-07-27.npy\n",
      "data10x10_AFH_ground_state_PEPS_uniform_random_couplings_19Jul20.npy\n",
      "data10x10_AFH_PEPS_with_random_couplings_2020-07-30.npy\n"
     ]
    }
   ],
   "source": [
    "files = []\n",
    "directory = 'data'\n",
    "for filename in os.listdir(directory):\n",
    "    if filename[0:4] == 'data':\n",
    "        print(filename)\n",
    "        files.append(filename)"
   ]
  },
  {
   "cell_type": "code",
   "execution_count": 3,
   "metadata": {},
   "outputs": [
    {
     "name": "stdout",
     "output_type": "stream",
     "text": [
      "11\n"
     ]
    }
   ],
   "source": [
    "np_files = []\n",
    "for file in files:\n",
    "    np_files.append(np.load(directory + '/' + file))\n",
    "print(len(np_files))"
   ]
  },
  {
   "cell_type": "code",
   "execution_count": 11,
   "metadata": {},
   "outputs": [
    {
     "name": "stdout",
     "output_type": "stream",
     "text": [
      "AFH_PEPS_with_random_couplings\n"
     ]
    }
   ],
   "source": [
    "print(files[6][8:-15])"
   ]
  },
  {
   "cell_type": "code",
   "execution_count": 9,
   "metadata": {},
   "outputs": [],
   "source": [
    "np.savetxt(str(date.today()) + files[4][8:-15] + '.csv',\n",
    "           np.concatenate((np.transpose(np_files[4][1]), \n",
    "                           np.transpose(np_files[4][2]), \n",
    "                           np.transpose(np_files[8][1]), \n",
    "                           np.transpose(np_files[8][2])), \n",
    "                          axis=1),\n",
    "           delimiter=',',\n",
    "           fmt='%d',\n",
    "           header='D = 2,D = 3,D = 4,D = 2,D = 3,D = 4,D = 2,D = 3,D = 4,D = 2,D = 3,D = 4')"
   ]
  },
  {
   "cell_type": "code",
   "execution_count": 12,
   "metadata": {},
   "outputs": [],
   "source": [
    "np.savetxt(str(date.today()) + files[6][8:-15] + '.csv',\n",
    "           np.concatenate((np.transpose(np_files[6][1]), \n",
    "                           np.transpose(np_files[6][2]), \n",
    "                           np.transpose(np_files[10][1]), \n",
    "                           np.transpose(np_files[10][2])), \n",
    "                          axis=1),\n",
    "           delimiter=',',\n",
    "           fmt='%d',\n",
    "           header='D = 2,D = 3,D = 4,D = 2,D = 3,D = 4,D = 2,D = 3,D = 4,D = 2,D = 3,D = 4')"
   ]
  },
  {
   "cell_type": "code",
   "execution_count": null,
   "metadata": {},
   "outputs": [],
   "source": []
  }
 ],
 "metadata": {
  "kernelspec": {
   "display_name": "Python 3",
   "language": "python",
   "name": "python3"
  },
  "language_info": {
   "codemirror_mode": {
    "name": "ipython",
    "version": 3
   },
   "file_extension": ".py",
   "mimetype": "text/x-python",
   "name": "python",
   "nbconvert_exporter": "python",
   "pygments_lexer": "ipython3",
   "version": "3.7.6"
  }
 },
 "nbformat": 4,
 "nbformat_minor": 4
}
