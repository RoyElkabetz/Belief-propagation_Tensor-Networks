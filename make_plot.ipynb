{
 "cells": [
  {
   "cell_type": "code",
   "execution_count": 1,
   "metadata": {},
   "outputs": [],
   "source": [
    "import numpy as np\n",
    "import random\n",
    "import time\n",
    "import matplotlib.pyplot as plt\n",
    "import matplotlib._color_data as mcd\n",
    "color_list = ['salmon', 'limegreen', 'mediumturquoise', 'cornflowerblue', 'fuchsia', 'khaki']\n",
    "\n",
    "import copy as cp\n",
    "import pickle\n",
    "import pandas as pd\n",
    "from ipywidgets import IntProgress\n",
    "from IPython.display import display\n",
    "\n",
    "\n",
    "import RandomPEPS as rpeps\n",
    "import StructureMatrixGenerator as smg\n",
    "import trivialSimpleUpdate as tsu\n",
    "import DoubleEdgeFactorGraphs as defg\n",
    "import SimpleUpdate as su\n",
    "import bmpslib as bmps"
   ]
  },
  {
   "cell_type": "code",
   "execution_count": 2,
   "metadata": {},
   "outputs": [],
   "source": [
    "file = 'data/data10x10_random_PEPS.npy'\n",
    "params = 'data/parameters10x10_random_PEPS.npy'\n",
    "data = np.load(file, allow_pickle=True)\n",
    "parameters = np.load(params, allow_pickle=True)"
   ]
  },
  {
   "cell_type": "code",
   "execution_count": 3,
   "metadata": {},
   "outputs": [
    {
     "name": "stdout",
     "output_type": "stream",
     "text": [
      "[list(['ATD', 'BP', 'tSU']) list(['N x M', [10, 10]])\n",
      " list(['bond_dimensions', [2, 3]]) list(['bc', 'open']) list(['d', 2])\n",
      " list(['dw', 1e-06]) list(['BP t_max', 1000]) list(['BP epsilon', 1e-10])\n",
      " list(['BP dumping', 0.0]) list(['tSU t_max', 1000])\n",
      " list(['num of experiments', 20])]\n"
     ]
    }
   ],
   "source": [
    "print(parameters)"
   ]
  },
  {
   "cell_type": "code",
   "execution_count": 4,
   "metadata": {},
   "outputs": [],
   "source": [
    "# unpack parameters\n",
    "N, M = parameters[1][1][0], parameters[1][1][1]\n",
    "bond_dimensions = parameters[2][1]\n",
    "num_experiments = parameters[10][1]\n",
    "\n",
    "# unpack data\n",
    "ATD_D = data[0]\n",
    "T_BP_D = data[1]\n",
    "T_SU_D = data[2]"
   ]
  },
  {
   "cell_type": "code",
   "execution_count": 5,
   "metadata": {},
   "outputs": [
    {
     "data": {
      "image/png": "[encoded data removed]",
      "text/plain": [
       "<Figure size 864x576 with 1 Axes>"
      ]
     },
     "metadata": {
      "needs_background": "light"
     },
     "output_type": "display_data"
    }
   ],
   "source": [
    "\n",
    "name = '$' + str(N) + ' x ' + str(M) + '$'  + ' random PEPS'\n",
    "plt.figure(figsize=(12, 8))\n",
    "fonts = 20\n",
    "names = []\n",
    "for i, D in enumerate(bond_dimensions):\n",
    " \n",
    "    plt.scatter(range(1, num_experiments + 1),\n",
    "                np.asarray(T_BP_D[i]) / np.asarray(T_SU_D[i]),\n",
    "                color=mcd.CSS4_COLORS[color_list[i]], \n",
    "                s=50)\n",
    "    \n",
    "    plt.plot(range(1, num_experiments + 1),\n",
    "             np.mean(np.asarray(T_BP_D[i]) / np.asarray(T_SU_D[i])) * np.ones((num_experiments, 1)),\n",
    "             '--',\n",
    "             color=mcd.CSS4_COLORS[color_list[i]])\n",
    "    \n",
    "    names.append('D = ' + str(D))\n",
    "plt.title(name, fontsize=fonts)\n",
    "plt.xlabel('Experiment number', fontsize=fonts)\n",
    "plt.ylabel('$T_{BP}$ / $T_{tSU}$', fontsize=fonts)\n",
    "plt.xticks(list(range(1, num_experiments + 1, 2)), fontsize=15)\n",
    "plt.yticks(fontsize=15)\n",
    "plt.legend(names, fontsize=fonts)\n",
    "plt.grid()\n",
    "plt.savefig('images/' + name + '.svg', format=\"svg\")\n",
    "plt.savefig('images/' + name + '.pdf')"
   ]
  },
  {
   "cell_type": "code",
   "execution_count": 6,
   "metadata": {},
   "outputs": [
    {
     "data": {
      "text/plain": [
       "array([[7., 7., 7., 7., 7., 7., 7., 7., 7., 7., 7., 7., 8., 8., 7., 7.,\n",
       "        7., 7., 8., 7.],\n",
       "       [6., 6., 6., 6., 6., 6., 6., 6., 6., 6., 6., 6., 6., 6., 6., 6.,\n",
       "        6., 6., 6., 6.]])"
      ]
     },
     "execution_count": 6,
     "metadata": {},
     "output_type": "execute_result"
    }
   ],
   "source": [
    "T_BP_D"
   ]
  },
  {
   "cell_type": "code",
   "execution_count": 7,
   "metadata": {},
   "outputs": [
    {
     "data": {
      "text/plain": [
       "array([[9., 9., 8., 9., 9., 9., 9., 9., 9., 9., 9., 9., 9., 9., 8., 9.,\n",
       "        9., 9., 9., 9.],\n",
       "       [8., 8., 8., 8., 8., 8., 8., 8., 8., 8., 8., 8., 8., 8., 8., 8.,\n",
       "        8., 8., 8., 8.]])"
      ]
     },
     "execution_count": 7,
     "metadata": {},
     "output_type": "execute_result"
    }
   ],
   "source": [
    "T_SU_D"
   ]
  },
  {
   "cell_type": "code",
   "execution_count": null,
   "metadata": {},
   "outputs": [],
   "source": []
  }
 ],
 "metadata": {
  "kernelspec": {
   "display_name": "Python 3",
   "language": "python",
   "name": "python3"
  },
  "language_info": {
   "codemirror_mode": {
    "name": "ipython",
    "version": 3
   },
   "file_extension": ".py",
   "mimetype": "text/x-python",
   "name": "python",
   "nbconvert_exporter": "python",
   "pygments_lexer": "ipython3",
   "version": "3.7.6"
  }
 },
 "nbformat": 4,
 "nbformat_minor": 4
}
