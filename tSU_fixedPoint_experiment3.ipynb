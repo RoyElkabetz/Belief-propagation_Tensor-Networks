{
 "cells": [
  {
   "cell_type": "code",
   "execution_count": 1,
   "metadata": {},
   "outputs": [],
   "source": [
    "import numpy as np\n",
    "import random\n",
    "import time\n",
    "import matplotlib.pyplot as plt\n",
    "import copy as cp\n",
    "import pickle\n",
    "import pandas as pd\n",
    "\n",
    "import RandomPEPS as rpeps\n",
    "import StructureMatrixGenerator as smg\n",
    "import trivialSimpleUpdate as tsu\n",
    "import DoubleEdgeFactorGraphs as defg\n",
    "import SimpleUpdate as su\n",
    "import bmpslib as bmps\n",
    "\n",
    "np.random.seed(1)"
   ]
  },
  {
   "cell_type": "code",
   "execution_count": 2,
   "metadata": {},
   "outputs": [],
   "source": [
    "######################################################################################################################\n",
    "#                                                                                                                    #\n",
    "#                     TRIVIAL SIMPLE UPDATE (TSU) FIXED POINT EXPERIMENT ON RANDOM PEPS                              #\n",
    "#                                                                                                                    #\n",
    "######################################################################################################################\n",
    "\n",
    "# tSU parameters\n",
    "N, M = 5, 5\n",
    "bc = 'open'\n",
    "dw = 1e-10\n",
    "D_max = 2\n",
    "t_max = 100\n",
    "epsilon = 1e-8\n",
    "dumping = 0.2\n",
    "iterations = 30\n",
    "d = 2\n",
    "smat, _ = smg.finitePEPSobcStructureMatrixGenerator(N, M)\n",
    "tensors, weights = smg.randomTensornetGenerator(smat, d, D_max)\n",
    "n, m = smat.shape"
   ]
  },
  {
   "cell_type": "code",
   "execution_count": 3,
   "metadata": {},
   "outputs": [
    {
     "data": {
      "text/plain": [
       "<matplotlib.image.AxesImage at 0xa1e341f50>"
      ]
     },
     "execution_count": 3,
     "metadata": {},
     "output_type": "execute_result"
    },
    {
     "data": {
      "image/png": "[encoded data removed]",
      "text/plain": [
       "<Figure size 432x288 with 1 Axes>"
      ]
     },
     "metadata": {
      "needs_background": "light"
     },
     "output_type": "display_data"
    }
   ],
   "source": [
    "plt.imshow(smat)"
   ]
  },
  {
   "cell_type": "code",
   "execution_count": 4,
   "metadata": {},
   "outputs": [],
   "source": [
    "# ITE parameters\n",
    "Z = np.array([[1, 0], [0, -1]])\n",
    "Y = np.array([[0, -1j], [1j, 0]])\n",
    "X = np.array([[0, 1], [1, 0]])\n",
    "Sz = 0.5 * Z\n",
    "Sy = 0.5 * Y\n",
    "Sx = 0.5 * X\n",
    "Opi = [Sx, Sy, Sz]\n",
    "Opj = [Sx, Sy, Sz]\n",
    "Op_field = np.eye(d)\n",
    "interactionConstants = [-1] * m\n",
    "timeStep = 0"
   ]
  },
  {
   "cell_type": "code",
   "execution_count": 5,
   "metadata": {},
   "outputs": [
    {
     "name": "stderr",
     "output_type": "stream",
     "text": [
      "/Users/royelkabetz/Git/QBPmodule/SimpleUpdate.py:466: FutureWarning: Using a non-tuple sequence for multidimensional indexing is deprecated; use `arr[tuple(seq)]` instead of `arr[seq]`. In the future this will be interpreted as an array index, `arr[np.array(seq)]`, which will result either in an error or a different result.\n",
      "  leftDim = np.prod(shape[[leftIdx]])\n",
      "/Users/royelkabetz/Git/QBPmodule/SimpleUpdate.py:467: FutureWarning: Using a non-tuple sequence for multidimensional indexing is deprecated; use `arr[tuple(seq)]` instead of `arr[seq]`. In the future this will be interpreted as an array index, `arr[np.array(seq)]`, which will result either in an error or a different result.\n",
      "  rightDim = np.prod(shape[[rightIdx]])\n"
     ]
    },
    {
     "name": "stdout",
     "output_type": "stream",
     "text": [
      "The final error is: 3.0183260404936796e-11 in 11 iterations\n"
     ]
    }
   ],
   "source": [
    "# tSU implementation\n",
    "errors = []\n",
    "for i in range(iterations):\n",
    "    tensors_next, weights_next = su.simpleUpdate(tensors,\n",
    "                                                       weights,\n",
    "                                                       timeStep,\n",
    "                                                       interactionConstants,\n",
    "                                                       0,\n",
    "                                                       Opi,\n",
    "                                                       Opj,\n",
    "                                                       Op_field,\n",
    "                                                       smat,\n",
    "                                                       D_max,\n",
    "                                                       'SU',\n",
    "                                                       graph=None)\n",
    "\n",
    "    error = np.sum(np.abs(np.asarray(weights) - np.asarray(weights_next)))\n",
    "    errors.append(error)\n",
    "    if error < dw:\n",
    "        print('The final error is: {} in {} iterations'.format(error, i))\n",
    "        tensors = tensors_next\n",
    "        weights = weights_next\n",
    "        break\n",
    "    tensors = tensors_next\n",
    "    weights = weights_next\n",
    "\n",
    "# save the fixed-point Tensor Net\n",
    "tensors_fixedPoint = cp.deepcopy(tensors)\n",
    "weights_fixedPoint = cp.deepcopy(weights)"
   ]
  },
  {
   "cell_type": "code",
   "execution_count": 14,
   "metadata": {},
   "outputs": [
    {
     "name": "stdout",
     "output_type": "stream",
     "text": [
      "_______________________\n",
      "You pick tensor num 13.\n",
      "Edges: [15 23 24 25]\n",
      "Indices: [2 1 4 3]\n",
      "its neighboring tensors are: [ 8 12 14 18]\n"
     ]
    }
   ],
   "source": [
    "# pick an edge for ITE\n",
    "tensor_i = 13\n",
    "tensor_i_edgeNidx = su.getEdges(tensor_i, smat)\n",
    "neighboring_tensors = np.nonzero(smat[:, tensor_i_edgeNidx[0]])[0]\n",
    "neighboring_tensors = neighboring_tensors[neighboring_tensors != tensor_i]\n",
    "print('_______________________')\n",
    "print('You pick tensor num {}.'.format(tensor_i))\n",
    "print('Edges: {}\\nIndices: {}'.format(tensor_i_edgeNidx[0], tensor_i_edgeNidx[1]))\n",
    "print('its neighboring tensors are: {}'.format(neighboring_tensors))"
   ]
  },
  {
   "cell_type": "code",
   "execution_count": 7,
   "metadata": {},
   "outputs": [],
   "source": [
    "ITEedge = tensor_i_edgeNidx[0][2]"
   ]
  },
  {
   "cell_type": "code",
   "execution_count": 15,
   "metadata": {},
   "outputs": [],
   "source": [
    "def checkCanon(TN_edge, TN_tensors, TN_smat):\n",
    "    # check canonical condition on ITE edge\n",
    "    Ti, Tj = su.getTensors(TN_edge, TN_tensors, TN_smat)\n",
    "    Tistar, Tjstar = su.getConjTensors(TN_edge, TN_tensors, TN_smat)\n",
    "    iEdgesNidx, jEdgesNidx = su.getTensorsEdges(TN_edge, TN_smat)\n",
    "\n",
    "    # absorb environment (lambda weights) into tensors\n",
    "    Ti[0] = su.absorbWeights(Ti[0], iEdgesNidx, weights)\n",
    "    Tj[0] = su.absorbWeights(Tj[0], jEdgesNidx, weights)\n",
    "    Tistar[0] = su.absorbWeights(Tistar[0], iEdgesNidx, weights)\n",
    "    Tjstar[0] = su.absorbWeights(Tjstar[0], jEdgesNidx, weights)\n",
    "\n",
    "    # make lists for contraction\n",
    "    i_list = list(range(len(Ti[0].shape)))\n",
    "    istar_list = list(range(len(Ti[0].shape)))\n",
    "    i_list[Ti[2][0]] = 50\n",
    "    istar_list[Tistar[2][0]] = 51\n",
    "\n",
    "    j_list = list(range(len(Tj[0].shape)))\n",
    "    jstar_list = list(range(len(Tj[0].shape)))\n",
    "    j_list[Tj[2][0]] = 50\n",
    "    jstar_list[Tjstar[2][0]] = 51\n",
    "\n",
    "    # contract\n",
    "    delta_i = np.einsum(Ti[0], i_list, Tistar[0], istar_list, [50, 51])\n",
    "    delta_j = np.einsum(Tj[0], j_list, Tjstar[0], jstar_list, [50, 51])\n",
    "\n",
    "    # normalize\n",
    "    delta_i /= np.max(np.real(delta_i))\n",
    "    delta_j /= np.max(np.real(delta_j))\n",
    "    \n",
    "    # print results\n",
    "    print('####################################')\n",
    "    print('--- Checking canonical condition ---')\n",
    "    print('--- from both sides of the edge  ---')\n",
    "    print('------------- Edge: {} -------------\\n'.format(TN_edge))\n",
    "    print('Trace = {}'.format(np.trace(delta_i) / delta_i.shape[0]))\n",
    "    print('from side of tensor {}:\\n {}\\n'.format(Ti[1][0], np.real(np.round(delta_i, 4))))\n",
    "    print('Trace = {}'.format(np.trace(delta_j) / delta_j.shape[0]))\n",
    "    print('from side of tensor {}:\\n {}'.format(Tj[1][0], np.real(np.round(delta_j, 4))))\n",
    "    print('####################################\\n')"
   ]
  },
  {
   "cell_type": "code",
   "execution_count": 16,
   "metadata": {},
   "outputs": [
    {
     "name": "stdout",
     "output_type": "stream",
     "text": [
      "####################################\n",
      "--- Checking canonical condition ---\n",
      "--- from both sides of the edge  ---\n",
      "------------- Edge: 24 -------------\n",
      "\n",
      "Trace = (0.9999999999999996+0j)\n",
      "from side of tensor 13:\n",
      " [[ 1. -0.  0. -0.  0.  0. -0. -0.]\n",
      " [-0.  1. -0.  0. -0.  0.  0. -0.]\n",
      " [ 0. -0.  1.  0. -0. -0. -0. -0.]\n",
      " [-0.  0.  0.  1. -0. -0. -0.  0.]\n",
      " [ 0. -0. -0. -0.  1.  0.  0. -0.]\n",
      " [ 0.  0. -0. -0.  0.  1. -0. -0.]\n",
      " [-0.  0. -0. -0.  0. -0.  1.  0.]\n",
      " [-0. -0. -0.  0. -0. -0.  0.  1.]]\n",
      "\n",
      "Trace = (0.9999999999999992+0j)\n",
      "from side of tensor 18:\n",
      " [[ 1.  0. -0.  0.  0. -0.  0. -0.]\n",
      " [ 0.  1.  0. -0.  0.  0. -0. -0.]\n",
      " [-0.  0.  1.  0. -0. -0.  0.  0.]\n",
      " [ 0. -0.  0.  1. -0.  0. -0. -0.]\n",
      " [ 0.  0. -0. -0.  1.  0.  0. -0.]\n",
      " [-0.  0. -0.  0.  0.  1.  0. -0.]\n",
      " [ 0. -0.  0. -0.  0.  0.  1. -0.]\n",
      " [-0. -0.  0. -0. -0. -0. -0.  1.]]\n",
      "####################################\n",
      "\n"
     ]
    }
   ],
   "source": [
    "checkCanon(ITEedge, tensors, smat)"
   ]
  },
  {
   "cell_type": "code",
   "execution_count": 10,
   "metadata": {},
   "outputs": [],
   "source": [
    "# Run k SU iterations with ITE\n",
    "k = 1\n",
    "dt = 0.1\n",
    "Bond_dimension = 100\n",
    "\n",
    "for _ in range(k):\n",
    "    tensors_next, weights_next = su.simpleUpdate(tensors,\n",
    "                                                 weights,\n",
    "                                                 dt,\n",
    "                                                 interactionConstants,\n",
    "                                                 0,\n",
    "                                                 Opi,\n",
    "                                                 Opj,\n",
    "                                                 Op_field,\n",
    "                                                 smat,\n",
    "                                                 Bond_dimension,\n",
    "                                                 'SU',\n",
    "                                                 singleEdge=ITEedge)\n",
    "    tensors = tensors_next\n",
    "    weights = weights_next"
   ]
  },
  {
   "cell_type": "code",
   "execution_count": 11,
   "metadata": {},
   "outputs": [
    {
     "name": "stdout",
     "output_type": "stream",
     "text": [
      "####################################\n",
      "--- Checking canonical condition ---\n",
      "--- from both sides of the edge  ---\n",
      "------------- Edge: 24 -------------\n",
      "\n",
      "Trace = (0.9999999999999996+0j)\n",
      "from side of tensor 13:\n",
      " [[ 1. -0.  0. -0.  0.  0. -0. -0.]\n",
      " [-0.  1. -0.  0. -0.  0.  0. -0.]\n",
      " [ 0. -0.  1.  0. -0. -0. -0. -0.]\n",
      " [-0.  0.  0.  1. -0. -0. -0.  0.]\n",
      " [ 0. -0. -0. -0.  1.  0.  0. -0.]\n",
      " [ 0.  0. -0. -0.  0.  1. -0. -0.]\n",
      " [-0.  0. -0. -0.  0. -0.  1.  0.]\n",
      " [-0. -0. -0.  0. -0. -0.  0.  1.]]\n",
      "\n",
      "Trace = (0.9999999999999992+0j)\n",
      "from side of tensor 18:\n",
      " [[ 1.  0. -0.  0.  0. -0.  0. -0.]\n",
      " [ 0.  1.  0. -0.  0.  0. -0. -0.]\n",
      " [-0.  0.  1.  0. -0. -0.  0.  0.]\n",
      " [ 0. -0.  0.  1. -0.  0. -0. -0.]\n",
      " [ 0.  0. -0. -0.  1.  0.  0. -0.]\n",
      " [-0.  0. -0.  0.  0.  1.  0. -0.]\n",
      " [ 0. -0.  0. -0.  0.  0.  1. -0.]\n",
      " [-0. -0.  0. -0. -0. -0. -0.  1.]]\n",
      "\n",
      "####################################\n",
      "\n"
     ]
    }
   ],
   "source": [
    "# checking the ITE edge canonical condition after SU iteration (sould still be satisfied)\n",
    "checkCanon(ITEedge, tensors, smat)"
   ]
  },
  {
   "cell_type": "code",
   "execution_count": 12,
   "metadata": {},
   "outputs": [
    {
     "name": "stdout",
     "output_type": "stream",
     "text": [
      "####################################\n",
      "--- Checking canonical condition ---\n",
      "--- from both sides of the edge  ---\n",
      "------------- Edge: 15 -------------\n",
      "\n",
      "Trace = (0.9999999999998195+0j)\n",
      "from side of tensor 8:\n",
      " [[1. 0.]\n",
      " [0. 1.]]\n",
      "\n",
      "Trace = (0.9603539507558922+0j)\n",
      "from side of tensor 13:\n",
      " [[ 0.9207 -0.0081]\n",
      " [-0.0081  1.    ]]\n",
      "\n",
      "####################################\n",
      "\n",
      "####################################\n",
      "--- Checking canonical condition ---\n",
      "--- from both sides of the edge  ---\n",
      "------------- Edge: 23 -------------\n",
      "\n",
      "Trace = (0.9999999999999997+0j)\n",
      "from side of tensor 12:\n",
      " [[ 1. -0.]\n",
      " [-0.  1.]]\n",
      "\n",
      "Trace = (0.952539822049558+0j)\n",
      "from side of tensor 13:\n",
      " [[ 0.9051 -0.0078]\n",
      " [-0.0078  1.    ]]\n",
      "\n",
      "####################################\n",
      "\n",
      "####################################\n",
      "--- Checking canonical condition ---\n",
      "--- from both sides of the edge  ---\n",
      "------------- Edge: 25 -------------\n",
      "\n",
      "Trace = (0.9546485835039984+0j)\n",
      "from side of tensor 13:\n",
      " [[0.9093 0.002 ]\n",
      " [0.002  1.    ]]\n",
      "\n",
      "Trace = (0.9999999999999705+0j)\n",
      "from side of tensor 14:\n",
      " [[ 1. -0.]\n",
      " [-0.  1.]]\n",
      "\n",
      "####################################\n",
      "\n"
     ]
    }
   ],
   "source": [
    "# checking other edges canonical condition after SU iteration (sould not be satisfied)\n",
    "for edge in tensor_i_edgeNidx[0]:\n",
    "    if edge == ITEedge:\n",
    "        continue\n",
    "    checkCanon(edge, tensors, smat)"
   ]
  },
  {
   "cell_type": "code",
   "execution_count": null,
   "metadata": {},
   "outputs": [],
   "source": []
  }
 ],
 "metadata": {
  "kernelspec": {
   "display_name": "Python 3",
   "language": "python",
   "name": "python3"
  },
  "language_info": {
   "codemirror_mode": {
    "name": "ipython",
    "version": 3
   },
   "file_extension": ".py",
   "mimetype": "text/x-python",
   "name": "python",
   "nbconvert_exporter": "python",
   "pygments_lexer": "ipython3",
   "version": "3.7.6"
  }
 },
 "nbformat": 4,
 "nbformat_minor": 4
}
