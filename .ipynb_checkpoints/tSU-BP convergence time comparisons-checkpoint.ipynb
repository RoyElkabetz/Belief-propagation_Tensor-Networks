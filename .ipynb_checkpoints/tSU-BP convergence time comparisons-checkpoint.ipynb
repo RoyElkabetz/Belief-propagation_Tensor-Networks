{
 "cells": [
  {
   "cell_type": "code",
   "execution_count": 1,
   "metadata": {},
   "outputs": [],
   "source": [
    "import numpy as np\n",
    "import random\n",
    "import time\n",
    "import matplotlib.pyplot as plt\n",
    "import matplotlib._color_data as mcd\n",
    "color_list = ['salmon', 'limegreen', 'mediumturquoise', 'cornflowerblue', 'fuchsia', 'khaki']\n",
    "\n",
    "import copy as cp\n",
    "import pickle\n",
    "import pandas as pd\n",
    "import sys\n",
    "from ipywidgets import IntProgress\n",
    "from IPython.display import display\n",
    "\n",
    "\n",
    "import RandomPEPS as rpeps\n",
    "import StructureMatrixGenerator as smg\n",
    "import trivialSimpleUpdate as tsu\n",
    "import DoubleEdgeFactorGraphs as defg\n",
    "import SimpleUpdate as su\n",
    "import bmpslib as bmps"
   ]
  },
  {
   "cell_type": "markdown",
   "metadata": {},
   "source": [
    "# Comparing convergence time to fixed-point of trivial-Simple Update (tSU) and Belief Propagation (BP) over N different random PEPS experiments"
   ]
  },
  {
   "cell_type": "markdown",
   "metadata": {},
   "source": [
    "In this experiment I calculated on **random PEPS** the ratio of **BP** iterations $T_{BP}$ to the **tSU** iterations $T_{SU}$ to convergance to a fixed-point. The convergence criteria for both algorithms was takes with respect to the two-body reduced density matrices (RDMs) as follows:\n",
    "\n",
    "$\n",
    "\\begin{align}\n",
    "\\frac{1}{m}\\sum_{\\langle i,j\\rangle} \\|\\rho_{ij}^{BP}-\\rho_{ij}^{tSU}\\|_1<dW\n",
    "\\end{align}\n",
    "$\n",
    "\n",
    "where $m$ coresponds to the number of edges in the tensor network and $dW$ is some pre-determined constant."
   ]
  },
  {
   "cell_type": "code",
   "execution_count": 2,
   "metadata": {},
   "outputs": [],
   "source": [
    "# tSU and BP parameters\n",
    "N, M = 4, 4                                                   # NxM PEPS\n",
    "bc = 'open'                                                   # boundary conditions\n",
    "dw = 1e-6                                                     # maximal error allowed between two-body RDMS\n",
    "d = 2                                                         # tensor network physical bond dimension\n",
    "bond_dimensions = [2, 3, 4]                                   # maximal virtual bond dimensions allowed for truncation\n",
    "t_max = 1000                                                  # maximal number of BP iterations\n",
    "epsilon = 1e-10                                               # convergence criteria for BP messages (not used)\n",
    "dumping = 0.                                                  # BP messages dumping between [0, 1]\n",
    "iterations = 1000                                             # maximal number of tSU iterations\n",
    "sched = 'parallel'                                            # tSU scheduling scheme \n",
    "num_experiments = 100                                         # number of random experiments for each bond dimension\n",
    "smat, _ = smg.finitePEPSobcStructureMatrixGenerator(N, M)     # generating the PEPS structure matrix\n",
    "n, m = smat.shape"
   ]
  },
  {
   "cell_type": "code",
   "execution_count": 3,
   "metadata": {},
   "outputs": [],
   "source": [
    "ATD_D = []         # Averaged Trace Distance (ATD) for each virtual bond dimension D\n",
    "BP_num_D = []      # numbeer of BP iterations\n",
    "tSU_num_D = []     # numbeer of tSU iterations"
   ]
  },
  {
   "cell_type": "markdown",
   "metadata": {},
   "source": [
    "## RUN"
   ]
  },
  {
   "cell_type": "code",
   "execution_count": 9,
   "metadata": {},
   "outputs": [
    {
     "name": "stdout",
     "output_type": "stream",
     "text": [
      "\n",
      "=-=-=-=-=-=-=-=-=-=-=-=-=-=-=-=-=-=-=\n",
      "|               D = 2               |\n",
      "=-=-=-=-=-=-=-=-=-=-=-=-=-=-=-=-=-=-=\n"
     ]
    },
    {
     "data": {
      "application/vnd.jupyter.widget-view+json": {
       "model_id": "cdf1168eba584237baf35a78b8773fa1",
       "version_major": 2,
       "version_minor": 0
      },
      "text/plain": [
       "IntProgress(value=0, bar_style='success', description='Runing:')"
      ]
     },
     "metadata": {},
     "output_type": "display_data"
    },
    {
     "name": "stdout",
     "output_type": "stream",
     "text": [
      "\n",
      "=-=-=-=-=-=-=-=-=-=-=-=-=-=-=-=-=-=-=\n",
      "|               D = 3               |\n",
      "=-=-=-=-=-=-=-=-=-=-=-=-=-=-=-=-=-=-=\n"
     ]
    },
    {
     "data": {
      "application/vnd.jupyter.widget-view+json": {
       "model_id": "b407c4f1f4134704be567ee4e6296a7e",
       "version_major": 2,
       "version_minor": 0
      },
      "text/plain": [
       "IntProgress(value=0, bar_style='success', description='Runing:')"
      ]
     },
     "metadata": {},
     "output_type": "display_data"
    },
    {
     "name": "stdout",
     "output_type": "stream",
     "text": [
      "\n",
      "=-=-=-=-=-=-=-=-=-=-=-=-=-=-=-=-=-=-=\n",
      "|               D = 4               |\n",
      "=-=-=-=-=-=-=-=-=-=-=-=-=-=-=-=-=-=-=\n"
     ]
    },
    {
     "data": {
      "application/vnd.jupyter.widget-view+json": {
       "model_id": "88ad5a2f79a34f1bb9d4e83c025cd1ef",
       "version_major": 2,
       "version_minor": 0
      },
      "text/plain": [
       "IntProgress(value=0, bar_style='success', description='Runing:')"
      ]
     },
     "metadata": {},
     "output_type": "display_data"
    }
   ],
   "source": [
    "for D_max in bond_dimensions:\n",
    "    ATD_tot = []\n",
    "    BP_iters = []\n",
    "    tSU_iters = []\n",
    "    print('\\n=-=-=-=-=-=-=-=-=-=-=-=-=-=-=-=-=-=-=')\n",
    "    print('|               D = {}               |'.format(D_max))\n",
    "    print('=-=-=-=-=-=-=-=-=-=-=-=-=-=-=-=-=-=-=')\n",
    "    \n",
    "\n",
    "    f = IntProgress(min=0, max=num_experiments, description='Runing:', bar_style='success') # instantiate the bar\n",
    "    display(f) # display the bar\n",
    "    for e in range(num_experiments):\n",
    "        f.value += 1 # signal to increment the progress bar\n",
    "        #if e % 10 == 0:\n",
    "        #    dots = '*' * int(e // 10)\n",
    "        #    spaces = '.' * int((num_experiments - e) // 10)\n",
    "        #    print('[' + dots + spaces + ']')\n",
    "        # draw some random PEPS Tensor Network\n",
    "        tensors, weights = smg.randomTensornetGenerator(smat, d, D_max)\n",
    "        BP_tensors, BP_weights = cp.deepcopy(tensors), cp.deepcopy(weights)\n",
    "\n",
    "        # constructing the dual double-edge factor graph and run a single BP iteration\n",
    "        graph = defg.defg()\n",
    "        graph = su.TNtoDEFGtransform(graph, BP_tensors, BP_weights, smat)\n",
    "        graph.sumProduct(1, epsilon, dumping, initializeMessages=1, printTime=0, RDMconvergence=0)\n",
    "        BP_rdm = []\n",
    "        for j in range(m):\n",
    "                BP_rdm.append(tsu.BPdoubleSiteRDM1(j, BP_tensors, BP_weights, smat, cp.deepcopy(graph.messages_n2f)))\n",
    "\n",
    "        # run BP and calculate two body rdms between two consecutive BP iterations\n",
    "        for t in range(t_max):\n",
    "            graph.sumProduct(1, epsilon, dumping, initializeMessages=1, printTime=0, RDMconvergence=0)\n",
    "\n",
    "            ATD_BP = 0\n",
    "            BP_rdm_next = []\n",
    "            for j in range(m):\n",
    "                BP_rdm_next.append(tsu.BPdoubleSiteRDM1(j,\n",
    "                                                        BP_tensors,\n",
    "                                                        BP_weights,\n",
    "                                                        smat,\n",
    "                                                        cp.deepcopy(graph.messages_n2f)))\n",
    "\n",
    "                ATD_BP += tsu.traceDistance(BP_rdm_next[j], BP_rdm[j])\n",
    "                BP_rdm[j] = BP_rdm_next[j]\n",
    "            ATD_BP /= m\n",
    "            #print('The ATD_BP is: {} at iteration {}'.format(ATD_BP, t))\n",
    "            if ATD_BP < dw:\n",
    "                #print('\\n')\n",
    "                #print('The final ATD_BP is: {} at iteration {}'.format(ATD_BP, t + 1))\n",
    "                break\n",
    "        BP_iters.append(t + 2)\n",
    "\n",
    "        # calculate the double site rdm in tsu\n",
    "        tSU_rdm = []\n",
    "        for i in range(m):\n",
    "            tSU_rdm.append(tsu.doubleSiteRDM(i, tensors, weights, smat))   \n",
    "\n",
    "\n",
    "        # trivial SU run\n",
    "        for i in range(iterations):\n",
    "            tensors_next, weights_next = tsu.trivialsimpleUpdate(tensors,\n",
    "                                                                 weights,\n",
    "                                                                 smat,\n",
    "                                                                 D_max, \n",
    "                                                                 scheduling='parallel')\n",
    "            ATD = 0\n",
    "            tSU_rdm_next = []\n",
    "            for j in range(m):\n",
    "                tSU_rdm_next.append(tsu.doubleSiteRDM(j, tensors_next, weights_next, smat))\n",
    "                ATD += tsu.traceDistance(tSU_rdm_next[j], tSU_rdm[j])\n",
    "                tSU_rdm[j] = tSU_rdm_next[j]\n",
    "            ATD /= m\n",
    "            if ATD < dw:\n",
    "                #print('The ATD is: {} at iteration {}'.format(ATD, i))\n",
    "                tensors = tensors_next\n",
    "                weights = weights_next\n",
    "                break\n",
    "            tensors = tensors_next\n",
    "            weights = weights_next  \n",
    "        tSU_iters.append(i + 1)\n",
    "\n",
    "\n",
    "        # calculate Averaged Trace Distance between the BP and tSU rdms.\n",
    "        ATD_BP_tSU = 0\n",
    "        for i in range(m):\n",
    "            ATD_BP_tSU += tsu.traceDistance(BP_rdm[i], tSU_rdm[i])\n",
    "        ATD_BP_tSU /= m\n",
    "        #print('the total ATD between BP and tSU is {}'.format(ATD_BP_tSU))\n",
    "        ATD_tot.append(ATD_BP_tSU)\n",
    "    ATD_D.append(ATD_tot)\n",
    "    BP_num_D.append(BP_iters)\n",
    "    tSU_num_D.append(tSU_iters)  \n"
   ]
  },
  {
   "cell_type": "markdown",
   "metadata": {},
   "source": [
    "## PLOT RESULTS"
   ]
  },
  {
   "cell_type": "code",
   "execution_count": 11,
   "metadata": {},
   "outputs": [
    {
     "data": {
      "image/png": "[encoded data removed]",
      "text/plain": [
       "<Figure size 864x576 with 1 Axes>"
      ]
     },
     "metadata": {
      "needs_background": "light"
     },
     "output_type": "display_data"
    }
   ],
   "source": [
    "plt.figure(figsize=(12, 8))\n",
    "fonts = 20\n",
    "names = []\n",
    "for i, D in enumerate(bond_dimensions):\n",
    " \n",
    "    plt.scatter(range(num_experiments),\n",
    "                np.asarray(BP_num_D[i]) / np.asarray(tSU_num_D[i]),\n",
    "                color=mcd.CSS4_COLORS[color_list[i]], \n",
    "                s=50)\n",
    "    \n",
    "    plt.plot(range(num_experiments),\n",
    "             np.mean(np.asarray(BP_num_D[i]) / np.asarray(tSU_num_D[i])) * np.ones((num_experiments, 1)),\n",
    "             '--',\n",
    "             color=mcd.CSS4_COLORS[color_list[i]])\n",
    "    \n",
    "    names.append('D = ' + str(D))\n",
    "plt.title(str(N) + 'x' + str(M) + ' random PEPS', fontsize=fonts)\n",
    "plt.xlabel('Experiment number', fontsize=fonts)\n",
    "plt.ylabel('T(BP) / T(SU)', fontsize=fonts)\n",
    "plt.legend(names, fontsize=fonts)\n",
    "plt.ylim([0., 2.])\n",
    "plt.grid()\n",
    "plt.show()"
   ]
  },
  {
   "cell_type": "code",
   "execution_count": null,
   "metadata": {},
   "outputs": [],
   "source": []
  }
 ],
 "metadata": {
  "kernelspec": {
   "display_name": "Python 3",
   "language": "python",
   "name": "python3"
  },
  "language_info": {
   "codemirror_mode": {
    "name": "ipython",
    "version": 3
   },
   "file_extension": ".py",
   "mimetype": "text/x-python",
   "name": "python",
   "nbconvert_exporter": "python",
   "pygments_lexer": "ipython3",
   "version": "3.7.6"
  }
 },
 "nbformat": 4,
 "nbformat_minor": 4
}
