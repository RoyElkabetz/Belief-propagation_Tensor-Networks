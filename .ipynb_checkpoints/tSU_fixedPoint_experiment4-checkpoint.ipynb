{
 "cells": [
  {
   "cell_type": "code",
   "execution_count": 1,
   "metadata": {},
   "outputs": [],
   "source": [
    "import numpy as np\n",
    "import random\n",
    "import time\n",
    "import matplotlib.pyplot as plt\n",
    "import copy as cp\n",
    "import pickle\n",
    "import pandas as pd\n",
    "\n",
    "import RandomPEPS as rpeps\n",
    "import StructureMatrixGenerator as smg\n",
    "import trivialSimpleUpdate as tsu\n",
    "import DoubleEdgeFactorGraphs as defg\n",
    "import SimpleUpdate as su\n",
    "import bmpslib as bmps"
   ]
  },
  {
   "cell_type": "code",
   "execution_count": 2,
   "metadata": {},
   "outputs": [],
   "source": [
    "########################################################################################################################\n",
    "#                                                                                                                      #\n",
    "#                                    TRIVIAL SIMPLE UPDATE (TSU) ON RANDOM PEPS                                        #\n",
    "#                                                                                                                      #\n",
    "########################################################################################################################\n",
    "np.random.seed(1)\n",
    "\n",
    "# tSU parameters\n",
    "N, M = 5, 5\n",
    "bc = 'open'\n",
    "dw = 1e-6\n",
    "D_max = 3\n",
    "t_max = 100\n",
    "epsilon = 1e-10\n",
    "dumping = 0.2\n",
    "iterations = 30\n",
    "d = 2\n",
    "smat, _ = smg.finitePEPSobcStructureMatrixGenerator(N, M)\n",
    "tensors, weights = smg.randomTensornetGenerator(smat, d, D_max)\n",
    "n, m = smat.shape"
   ]
  },
  {
   "cell_type": "code",
   "execution_count": 3,
   "metadata": {},
   "outputs": [
    {
     "name": "stdout",
     "output_type": "stream",
     "text": [
      "BP converged in 27 iterations \n"
     ]
    }
   ],
   "source": [
    "# constructing the dual double-edge factor graph\n",
    "graph = defg.defg()\n",
    "graph = su.TNtoDEFGtransform(graph, tensors, weights, smat)\n",
    "graph.sumProduct(t_max, epsilon, dumping, printTime=1, RDMconvergence=1)\n",
    "graph.calculateFactorsBeliefs()\n",
    "\n",
    "### TODO ###\n",
    "# define termination criteria using 2 site RDM\n",
    "# check that tsu tensors weights list are disjoint\n",
    "# compare BP and tsu for parallel and series update"
   ]
  },
  {
   "cell_type": "code",
   "execution_count": 4,
   "metadata": {},
   "outputs": [],
   "source": [
    "# calculate the double site rdm in tsu\n",
    "tSU_rdm = []\n",
    "for i in range(m):\n",
    "    tSU_rdm.append(tsu.doubleSiteRDM(i, tensors, weights, smat))"
   ]
  },
  {
   "cell_type": "code",
   "execution_count": 5,
   "metadata": {},
   "outputs": [
    {
     "name": "stderr",
     "output_type": "stream",
     "text": [
      "/Users/royelkabetz/Git/QBPmodule/trivialSimpleUpdate.py:326: FutureWarning: Using a non-tuple sequence for multidimensional indexing is deprecated; use `arr[tuple(seq)]` instead of `arr[seq]`. In the future this will be interpreted as an array index, `arr[np.array(seq)]`, which will result either in an error or a different result.\n",
      "  leftDim = np.prod(shape[[leftIdx]])\n",
      "/Users/royelkabetz/Git/QBPmodule/trivialSimpleUpdate.py:327: FutureWarning: Using a non-tuple sequence for multidimensional indexing is deprecated; use `arr[tuple(seq)]` instead of `arr[seq]`. In the future this will be interpreted as an array index, `arr[np.array(seq)]`, which will result either in an error or a different result.\n",
      "  rightDim = np.prod(shape[[rightIdx]])\n"
     ]
    },
    {
     "name": "stdout",
     "output_type": "stream",
     "text": [
      "The ATD is: 1.5965071261433686e-08 at iteration 12\n"
     ]
    }
   ],
   "source": [
    "# trivial SU run\n",
    "for i in range(iterations):\n",
    "    tensors_next, weights_next = tsu.trivialsimpleUpdate(tensors,\n",
    "                                                         weights,\n",
    "                                                         smat,\n",
    "                                                         D_max)\n",
    "    ATD = 0\n",
    "    tSU_rdm_next = []\n",
    "    for j in range(m):\n",
    "        tSU_rdm_next.append(tsu.doubleSiteRDM(i, tensors_next, weights_next, smat))\n",
    "        ATD += tsu.traceDistance(tSU_rdm_next[j], tSU_rdm[j])\n",
    "        tSU_rdm[j] = tSU_rdm_next[j]\n",
    "    ATD /= m\n",
    "    if ATD < dw:\n",
    "        print('The ATD is: {} at iteration {}'.format(ATD, i))\n",
    "        tensors = tensors_next\n",
    "        weights = weights_next\n",
    "        break\n",
    "    tensors = tensors_next\n",
    "    weights = weights_next"
   ]
  },
  {
   "cell_type": "code",
   "execution_count": 29,
   "metadata": {},
   "outputs": [
    {
     "name": "stdout",
     "output_type": "stream",
     "text": [
      "(1+0j)\n",
      "(0.9999999999999998+0j)\n",
      "(0.9999999999999998+0j)\n",
      "(0.9999999999999999-1.3877787807814457e-17j)\n",
      "(0.9999999999999999+4.336808689942018e-19j)\n",
      "(0.9999999999999999+0j)\n",
      "(1+0j)\n",
      "(0.9999999999999999+1.3877787807814457e-17j)\n",
      "(0.9999999999999999+0j)\n",
      "(1+8.673617379884035e-19j)\n",
      "(0.9999999999999998-8.673617379884035e-19j)\n",
      "(1+0j)\n",
      "(1-6.938893903907228e-18j)\n",
      "(1+0j)\n",
      "(1+0j)\n",
      "(1+3.469446951953614e-18j)\n",
      "(1+0j)\n",
      "(1+0j)\n",
      "(1+0j)\n",
      "(1-8.673617379884035e-19j)\n",
      "(1+0j)\n",
      "(0.9999999999999999-4.336808689942018e-19j)\n",
      "(1-1.734723475976807e-18j)\n",
      "(1+0j)\n",
      "(1+0j)\n",
      "(1-3.469446951953614e-18j)\n",
      "(1+0j)\n",
      "(1.0000000000000002+0j)\n",
      "(1.0000000000000002+0j)\n",
      "(1+0j)\n",
      "(1+3.469446951953614e-18j)\n",
      "(1+6.938893903907228e-18j)\n",
      "(0.9999999999999999+3.469446951953614e-18j)\n",
      "(1+5.421010862427522e-20j)\n",
      "(1+0j)\n",
      "(1-3.469446951953614e-18j)\n",
      "(1.0000000000000002-8.673617379884035e-19j)\n",
      "(1+3.469446951953614e-18j)\n",
      "(0.9999999999999999-6.938893903907228e-18j)\n",
      "(1+3.469446951953614e-18j)\n",
      "0.22422921409025962\n",
      "0.009032332636652547\n",
      "0.24997805890531435\n"
     ]
    }
   ],
   "source": [
    "\n",
    "# calculate two site RDMs\n",
    "tSU_2rdm = []\n",
    "tSU_2rdmMess = []\n",
    "for i in range(m):\n",
    "    tSU_2rdm.append(tsu.doubleSiteRDM(i, cp.deepcopy(tensors), cp.deepcopy(weights), smat))\n",
    "    tSU_2rdmMess.append(tsu.BPdoubleSiteRDM1(i, cp.deepcopy(tensors), cp.deepcopy(weights), smat, graph.messages_n2f))\n",
    "    \n",
    "\n",
    "ATD_tsu_BP = 0\n",
    "ATD_tsu_mess = 0\n",
    "ATD_BP_mess = 0\n",
    "for i in range(m):\n",
    "    ATD_tsu_BP += tsu.traceDistance(tSU_2rdm[i], graph.twoBodyRDMS[i])\n",
    "    ATD_tsu_mess += tsu.traceDistance(tSU_2rdm[i], tSU_2rdmMess[i])\n",
    "    ATD_BP_mess += tsu.traceDistance(graph.twoBodyRDMS[i], tSU_2rdmMess[i])\n",
    "print(ATD_tsu_BP / m)\n",
    "print(ATD_tsu_mess / m)\n",
    "print(ATD_BP_mess / m)\n",
    "\n",
    "\n",
    "\n",
    "    "
   ]
  },
  {
   "cell_type": "code",
   "execution_count": 7,
   "metadata": {},
   "outputs": [
    {
     "data": {
      "text/plain": [
       "array([[0.25963767, 0.25116755, 0.25116755, 0.2808646 ],\n",
       "       [0.23376572, 0.24114906, 0.22614705, 0.26919745],\n",
       "       [0.23376572, 0.22614705, 0.24114906, 0.26919745],\n",
       "       [0.21049585, 0.21715101, 0.21715101, 0.25806421]])"
      ]
     },
     "execution_count": 7,
     "metadata": {},
     "output_type": "execute_result"
    }
   ],
   "source": [
    "np.real(graph.twoBodyRDMS[0])"
   ]
  },
  {
   "cell_type": "code",
   "execution_count": 8,
   "metadata": {},
   "outputs": [
    {
     "data": {
      "text/plain": [
       "array([[0.21237027, 0.31079537, 0.31079537, 0.45680669],\n",
       "       [0.14996134, 0.2079823 , 0.2309425 , 0.32256559],\n",
       "       [0.14996134, 0.2309425 , 0.2079823 , 0.32256559],\n",
       "       [0.1727878 , 0.25286801, 0.25286801, 0.37166512]])"
      ]
     },
     "execution_count": 8,
     "metadata": {},
     "output_type": "execute_result"
    }
   ],
   "source": [
    "np.real(tSU_2rdm[0])"
   ]
  },
  {
   "cell_type": "code",
   "execution_count": 9,
   "metadata": {},
   "outputs": [
    {
     "name": "stdout",
     "output_type": "stream",
     "text": [
      "[[0.37058804 0.258804   0.258804   0.18079667]\n",
      " [0.26168388 0.18014268 0.18535662 0.12766622]\n",
      " [0.26168388 0.18535662 0.18014268 0.12766622]\n",
      " [0.30151627 0.21056701 0.21056701 0.14709902]]\n"
     ]
    }
   ],
   "source": [
    "# RDMS using BMPO from bmpslib\n",
    "tensors_p = su.absorbAllTensorNetWeights(cp.deepcopy(tensors), cp.deepcopy(weights), smat)\n",
    "tensors_p = smg.PEPS_OBC_broadcast_to_Itai(tensors_p, [N, M], d, D_max)\n",
    "peps = bmps.peps(N, M)\n",
    "for t, T in enumerate(tensors_p):\n",
    "    i, j = np.unravel_index(t, [N, M])\n",
    "    peps.set_site(T, i, j)\n",
    "bmpo_RDMS = bmps.calculate_PEPS_2RDM(peps, int(2 * (D_max ** 2)))\n",
    "for i in range(len(bmpo_RDMS)):\n",
    "    bmpo_RDMS[i] = np.reshape(bmpo_RDMS[i], (d * d, d * d))\n",
    "print(np.real(bmpo_RDMS[0]))"
   ]
  },
  {
   "cell_type": "code",
   "execution_count": 10,
   "metadata": {},
   "outputs": [],
   "source": [
    "def getBMPOedgeList(N, M, smat):\n",
    "    TN = np.arange(N * M).reshape(N, M)\n",
    "    Hpairs = []\n",
    "    Vpairs = []\n",
    "    HedgeList = []\n",
    "    VedgeList = []\n",
    "    for i in range(N):\n",
    "        for j in range(M - 1):\n",
    "            tH1 = TN[i][j]\n",
    "            tH2 = TN[i][j + 1]\n",
    "            Hpairs.append([tH1, tH2])\n",
    "\n",
    "    for i in range(N - 1):\n",
    "        for j in range(M):\n",
    "            tV1 = TN[i][j]\n",
    "            tV2 = TN[i + 1][j]\n",
    "            Vpairs.append([tV1, tV2])\n",
    "\n",
    "    for i, pair in enumerate(Hpairs):\n",
    "        for k in range(m):\n",
    "            if smat[pair[0], k] and smat[pair[1], k]:\n",
    "                HedgeList.append(k)\n",
    "                break\n",
    "    for i, pair in enumerate(Vpairs):\n",
    "        for k in range(m):\n",
    "            if smat[pair[0], k] and smat[pair[1], k]:\n",
    "                VedgeList.append(k)\n",
    "                break\n",
    "\n",
    "    return HedgeList + VedgeList"
   ]
  },
  {
   "cell_type": "code",
   "execution_count": 11,
   "metadata": {},
   "outputs": [
    {
     "name": "stdout",
     "output_type": "stream",
     "text": [
      "0.2131465163680737\n",
      "0.1895047433299522\n",
      "0.16809544888025726\n"
     ]
    }
   ],
   "source": [
    "edgeList = getBMPOedgeList(N, M, smat)\n",
    "\n",
    "# ATD\n",
    "ATD_bmpo_BP = 0\n",
    "ATD_bmpo_mess = 0\n",
    "ATD_bmpo_tsu = 0\n",
    "for i in range(m):\n",
    "    ATD_bmpo_BP += tsu.traceDistance(bmpo_RDMS[i], graph.twoBodyRDMS[edgeList[i]])\n",
    "    ATD_bmpo_mess += tsu.traceDistance(bmpo_RDMS[i], tSU_2rdmMess[edgeList[i]])\n",
    "    ATD_bmpo_tsu += tsu.traceDistance(bmpo_RDMS[i], tSU_2rdm[edgeList[i]])\n",
    "print(ATD_bmpo_BP / m)\n",
    "print(ATD_bmpo_mess / m)\n",
    "print(ATD_bmpo_tsu / m)\n"
   ]
  },
  {
   "cell_type": "code",
   "execution_count": 47,
   "metadata": {},
   "outputs": [],
   "source": [
    "# TODO\n",
    "\n",
    "# find why 2 body RDMS of BP, tSU and bMPO do not concide ??????"
   ]
  },
  {
   "cell_type": "code",
   "execution_count": 39,
   "metadata": {},
   "outputs": [
    {
     "data": {
      "text/plain": [
       "array([9.99999985e-01-2.04328441e-16j, 7.30405410e-09+1.98915345e-06j,\n",
       "       7.30405395e-09-1.98915345e-06j, 3.95687068e-12+6.05783663e-18j])"
      ]
     },
     "execution_count": 39,
     "metadata": {},
     "output_type": "execute_result"
    }
   ],
   "source": [
    "np.linalg.eigvals(tSU_2rdm[32])"
   ]
  },
  {
   "cell_type": "code",
   "execution_count": 40,
   "metadata": {},
   "outputs": [
    {
     "data": {
      "text/plain": [
       "array([9.99999999e-01+2.08534790e-16j, 5.05691717e-10-1.98768141e-06j,\n",
       "       5.05691722e-10+1.98768141e-06j, 3.95090725e-12-4.82769542e-17j])"
      ]
     },
     "execution_count": 40,
     "metadata": {},
     "output_type": "execute_result"
    }
   ],
   "source": [
    "np.linalg.eigvals(tSU_2rdmMess[32])"
   ]
  },
  {
   "cell_type": "code",
   "execution_count": 45,
   "metadata": {},
   "outputs": [
    {
     "data": {
      "text/plain": [
       "0.0008182549663685035"
      ]
     },
     "execution_count": 45,
     "metadata": {},
     "output_type": "execute_result"
    }
   ],
   "source": [
    "0.5 * np.sum(np.abs(np.linalg.eigvals(tSU_2rdm[32] - tSU_2rdmMess[32])))"
   ]
  },
  {
   "cell_type": "code",
   "execution_count": 51,
   "metadata": {},
   "outputs": [
    {
     "name": "stdout",
     "output_type": "stream",
     "text": [
      "2.5899947155492947e-07\n",
      "2.6531619335107064e-06\n",
      "0.010277477941739646\n",
      "4.578978343895919e-07\n",
      "0.000130358285442925\n",
      "2.484683510431224e-05\n",
      "0.00010408442077315964\n",
      "8.935712893918477e-06\n",
      "7.398184856666039e-05\n",
      "1.0316236198701302e-05\n",
      "0.0005491546455568641\n",
      "0.035611429614400725\n",
      "0.0004986273765765246\n",
      "0.008695363288653585\n",
      "2.4808381501912428e-05\n",
      "0.0008590305983301665\n",
      "1.3525339557886324e-05\n",
      "9.755172100549867e-05\n",
      "0.00016997662688844977\n",
      "0.0003089189457536509\n",
      "0.03114816051702727\n",
      "0.0007707587841832693\n",
      "0.21777973279662766\n",
      "0.0009945266949068674\n",
      "0.002231803050281835\n",
      "0.0003753908828760932\n",
      "0.00027093467860503004\n",
      "1.6480700833453925e-05\n",
      "0.00034326836895544826\n",
      "5.689216091373616e-05\n",
      "0.0012978037215454657\n",
      "0.00018476469692874052\n",
      "0.0008182549663685035\n",
      "0.03319406988038016\n",
      "0.00013534895015861\n",
      "0.01360901771935092\n",
      "2.0322903146398616e-06\n",
      "7.574992562804413e-06\n",
      "0.000517381679425957\n",
      "7.735005567150957e-05\n"
     ]
    }
   ],
   "source": [
    "for i in range(m):\n",
    "    print(tsu.traceDistance(tSU_2rdm[i], tSU_2rdmMess[i]))"
   ]
  },
  {
   "cell_type": "code",
   "execution_count": 49,
   "metadata": {},
   "outputs": [
    {
     "name": "stdout",
     "output_type": "stream",
     "text": [
      "[1, 3, 5, 7, 10, 12, 14, 16, 19, 21, 23, 25, 28, 30, 32, 34, 36, 37, 38, 39, 0, 2, 4, 6, 8, 9, 11, 13, 15, 17, 18, 20, 22, 24, 26, 27, 29, 31, 33, 35]\n"
     ]
    }
   ],
   "source": [
    "print(edgeList)"
   ]
  },
  {
   "cell_type": "code",
   "execution_count": 56,
   "metadata": {},
   "outputs": [
    {
     "name": "stdout",
     "output_type": "stream",
     "text": [
      "0.06101378756038884\n",
      "0.07367123474713469\n",
      "0.007002065736660313\n",
      "0.057136032754374254\n",
      "0.0013000758429275387\n",
      "0.04063643461455305\n",
      "0.020832020006584073\n",
      "0.020944938015825885\n",
      "0.007175255150803158\n",
      "0.07396734843973612\n",
      "0.13929002690875905\n",
      "0.09494488092324783\n",
      "0.005148775921670084\n",
      "0.09178399134055257\n",
      "0.20875438729979529\n",
      "0.023759678228017844\n",
      "0.05207016233857056\n",
      "0.055240982088023055\n",
      "0.06741041843046944\n",
      "0.09562633839003015\n",
      "0.08801278246157644\n",
      "0.3466051980471651\n",
      "0.33021556201872165\n",
      "0.20604570312971837\n",
      "0.27593996238776025\n",
      "0.2583560998313724\n",
      "0.08285364875167782\n",
      "0.10810377926476002\n",
      "0.41799647644930654\n",
      "0.16193749610322608\n",
      "0.571486031723921\n",
      "0.34851652039611586\n",
      "0.4365144265445913\n",
      "0.535419084541621\n",
      "0.2957679895178598\n",
      "0.33311162988368603\n",
      "0.05761926509098331\n",
      "0.5344831940692895\n",
      "0.07832545540733762\n",
      "0.05879881485147572\n"
     ]
    }
   ],
   "source": [
    "for i in range(m):\n",
    "    print(tsu.traceDistance(bmpo_RDMS[i], tSU_2rdm[edgeList[i]]))"
   ]
  },
  {
   "cell_type": "code",
   "execution_count": null,
   "metadata": {},
   "outputs": [],
   "source": []
  }
 ],
 "metadata": {
  "kernelspec": {
   "display_name": "Python 3",
   "language": "python",
   "name": "python3"
  },
  "language_info": {
   "codemirror_mode": {
    "name": "ipython",
    "version": 3
   },
   "file_extension": ".py",
   "mimetype": "text/x-python",
   "name": "python",
   "nbconvert_exporter": "python",
   "pygments_lexer": "ipython3",
   "version": "3.7.6"
  }
 },
 "nbformat": 4,
 "nbformat_minor": 4
}
