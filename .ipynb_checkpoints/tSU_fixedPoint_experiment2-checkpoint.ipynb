{
 "cells": [
  {
   "cell_type": "code",
   "execution_count": 1,
   "metadata": {},
   "outputs": [],
   "source": [
    "import numpy as np\n",
    "import random\n",
    "import time\n",
    "import matplotlib.pyplot as plt\n",
    "import copy as cp\n",
    "import pickle\n",
    "import pandas as pd\n",
    "\n",
    "import RandomPEPS as rpeps\n",
    "import StructureMatrixGenerator as smg\n",
    "import trivialSimpleUpdate as tsu\n",
    "import DoubleEdgeFactorGraphs as defg\n",
    "import SimpleUpdate as su\n",
    "import bmpslib as bmps\n",
    "\n",
    "#np.random.seed(1)"
   ]
  },
  {
   "cell_type": "code",
   "execution_count": 2,
   "metadata": {},
   "outputs": [],
   "source": [
    "######################################################################################################################\n",
    "#                                                                                                                    #\n",
    "#                                  TRIVIAL SIMPLE UPDATE (TSU) ON RANDOM PEPS                                        #\n",
    "#                                                                                                                    #\n",
    "######################################################################################################################\n",
    "\n",
    "# tSU parameters\n",
    "N, M = 10, 10\n",
    "bc = 'open'\n",
    "dw = 1e-10\n",
    "D_max = 3\n",
    "t_max = 100\n",
    "epsilon = 1e-8\n",
    "dumping = 0.2\n",
    "iterations = 30\n",
    "d = 2\n",
    "smat, _ = smg.finitePEPSobcStructureMatrixGenerator(N, M)\n",
    "tensors_su, weights_su = smg.randomTensornetGenerator(smat, d, D_max)\n",
    "n, m = smat.shape"
   ]
  },
  {
   "cell_type": "code",
   "execution_count": 3,
   "metadata": {},
   "outputs": [],
   "source": [
    "# ITE parameters\n",
    "Z = np.array([[1, 0], [0, -1]])\n",
    "Y = np.array([[0, -1j], [1j, 0]])\n",
    "X = np.array([[0, 1], [1, 0]])\n",
    "Sz = 0.5 * Z\n",
    "Sy = 0.5 * Y\n",
    "Sx = 0.5 * X\n",
    "Opi = [Sx, Sy, Sz]\n",
    "Opj = [Sx, Sy, Sz]\n",
    "Op_field = np.eye(d)\n",
    "timeStep = 0\n",
    "interactionConstants = [-1] * m"
   ]
  },
  {
   "cell_type": "code",
   "execution_count": 4,
   "metadata": {},
   "outputs": [
    {
     "name": "stdout",
     "output_type": "stream",
     "text": [
      "BP converged in 26 iterations \n"
     ]
    }
   ],
   "source": [
    "# constructing the dual double-edge factor graph and run BP before running the tSU\n",
    "pre_graph = defg.defg()\n",
    "pre_graph = su.TNtoDEFGtransform(pre_graph, tensors_su, weights_su, smat)\n",
    "s = time.time()\n",
    "pre_graph.sumProduct(t_max, epsilon, dumping, printTime=1)\n",
    "pre_tot = time.time() - s\n",
    "pre_graph.calculateFactorsBeliefs()"
   ]
  },
  {
   "cell_type": "code",
   "execution_count": 5,
   "metadata": {},
   "outputs": [
    {
     "name": "stderr",
     "output_type": "stream",
     "text": [
      "/Users/royelkabetz/Git/QBPmodule/SimpleUpdate.py:466: FutureWarning: Using a non-tuple sequence for multidimensional indexing is deprecated; use `arr[tuple(seq)]` instead of `arr[seq]`. In the future this will be interpreted as an array index, `arr[np.array(seq)]`, which will result either in an error or a different result.\n",
      "  leftDim = np.prod(shape[[leftIdx]])\n",
      "/Users/royelkabetz/Git/QBPmodule/SimpleUpdate.py:467: FutureWarning: Using a non-tuple sequence for multidimensional indexing is deprecated; use `arr[tuple(seq)]` instead of `arr[seq]`. In the future this will be interpreted as an array index, `arr[np.array(seq)]`, which will result either in an error or a different result.\n",
      "  rightDim = np.prod(shape[[rightIdx]])\n"
     ]
    },
    {
     "name": "stdout",
     "output_type": "stream",
     "text": [
      "The final error is: 3.817953075476647e-11\n"
     ]
    }
   ],
   "source": [
    "# tSU implementation\n",
    "errors_su = []\n",
    "for i in range(iterations):\n",
    "    tensors_su_next, weights_su_next = su.simpleUpdate(tensors_su,\n",
    "                                                       weights_su,\n",
    "                                                       timeStep,\n",
    "                                                       interactionConstants,\n",
    "                                                       0,\n",
    "                                                       Opi,\n",
    "                                                       Opj,\n",
    "                                                       Op_field,\n",
    "                                                       smat,\n",
    "                                                       D_max,\n",
    "                                                       'SU',\n",
    "                                                       graph=None)\n",
    "\n",
    "    error = np.sum(np.abs(np.asarray(weights_su) - np.asarray(weights_su_next)))\n",
    "    errors_su.append(error)\n",
    "    if error < dw:\n",
    "        print('The final error is: {}'.format(error))\n",
    "        tensors_su = tensors_su_next\n",
    "        weights_su = weights_su_next\n",
    "        break\n",
    "    tensors_su = tensors_su_next\n",
    "    weights_su = weights_su_next"
   ]
  },
  {
   "cell_type": "code",
   "execution_count": 6,
   "metadata": {},
   "outputs": [
    {
     "name": "stdout",
     "output_type": "stream",
     "text": [
      "BP converged in 30 iterations \n"
     ]
    }
   ],
   "source": [
    "# constructing the dual double-edge factor graph and run BP after running the tSU\n",
    "post_graph = defg.defg()\n",
    "post_graph = su.TNtoDEFGtransform(post_graph, tensors_su, weights_su, smat)\n",
    "s = time.time()\n",
    "post_graph.sumProduct(t_max, epsilon, dumping, printTime=1)\n",
    "post_tot = time.time() - s\n",
    "post_graph.calculateFactorsBeliefs()"
   ]
  },
  {
   "cell_type": "code",
   "execution_count": 7,
   "metadata": {},
   "outputs": [],
   "source": [
    "# calculating RDMs with BP and SU\n",
    "rho_SU = []\n",
    "for i in range(n):\n",
    "    rho_SU.append(su.singleSiteRDM(i, tensors_su, weights_su, smat))\n",
    "rho_pre_graph = pre_graph.calculateRDMSfromFactorBeliefs()\n",
    "rho_post_graph = pre_graph.calculateRDMSfromFactorBeliefs()"
   ]
  },
  {
   "cell_type": "code",
   "execution_count": 8,
   "metadata": {},
   "outputs": [
    {
     "name": "stdout",
     "output_type": "stream",
     "text": [
      "\n",
      "d(pre, post) = 0.0\n",
      "d(pre, su) = 0.00012021684606227986\n",
      "d(post, su) = 0.00012021684606227986\n"
     ]
    }
   ],
   "source": [
    "# Calculating average trace distances\n",
    "d_pre_post = 0\n",
    "d_pre_su = 0\n",
    "d_post_su = 0\n",
    "for i in range(n):\n",
    "    d_pre_post += su.traceDistance(rho_pre_graph[i], rho_pre_graph[i])\n",
    "    d_pre_su += su.traceDistance(rho_pre_graph[i], rho_SU[i])\n",
    "    d_post_su += su.traceDistance(rho_post_graph[i], rho_SU[i])\n",
    "\n",
    "print('\\nd(pre, post) = {}\\nd(pre, su) = {}\\nd(post, su) = {}'.format(d_pre_post / n, d_pre_su / n, d_post_su / n))"
   ]
  },
  {
   "cell_type": "code",
   "execution_count": 9,
   "metadata": {},
   "outputs": [],
   "source": [
    "# Run k SU with ITE iteration  \n",
    "k = 1\n",
    "for _ in range(k):\n",
    "    tensors_su_next, weights_su_next = su.simpleUpdate(tensors_su,\n",
    "                                                       weights_su,\n",
    "                                                       0.1,\n",
    "                                                       interactionConstants,\n",
    "                                                       0,\n",
    "                                                       Opi,\n",
    "                                                       Opj,\n",
    "                                                       Op_field,\n",
    "                                                       smat,\n",
    "                                                       D_max,\n",
    "                                                       'SU',\n",
    "                                                       singleEdge=11)\n",
    "    tensors_su = tensors_su_next\n",
    "    weights_su = weights_su_next"
   ]
  },
  {
   "cell_type": "code",
   "execution_count": 10,
   "metadata": {},
   "outputs": [
    {
     "name": "stdout",
     "output_type": "stream",
     "text": [
      "\n",
      "d(pre, post) = 0.0\n",
      "d(pre, su) = 0.00012021684606227986\n",
      "d(post, su) = 0.00012021684606227986\n",
      "d(post, su-next) = 0.00021473667994829126\n"
     ]
    }
   ],
   "source": [
    "# calculating new RDMs with BP and SU and trace distances\n",
    "rho_next_SU = []\n",
    "for i in range(n):\n",
    "    rho_next_SU.append(su.singleSiteRDM(i, tensors_su_next, weights_su_next, smat))\n",
    "d_post_su_next = 0\n",
    "for i in range(n):\n",
    "    d_post_su_next += su.traceDistance(rho_post_graph[i], rho_next_SU[i])\n",
    "\n",
    "print('\\nd(pre, post) = {}\\nd(pre, su) = {}\\nd(post, su) = {}'.format(d_pre_post / n, d_pre_su / n, d_post_su / n))\n",
    "print('d(post, su-next) = {}'.format(d_post_su_next / n))"
   ]
  },
  {
   "cell_type": "code",
   "execution_count": 11,
   "metadata": {},
   "outputs": [
    {
     "name": "stdout",
     "output_type": "stream",
     "text": [
      "The final error is: 8.574931695327197e-11\n"
     ]
    }
   ],
   "source": [
    "# another tSU implementation\n",
    "for i in range(iterations):\n",
    "    tensors_su_next, weights_su_next = su.simpleUpdate(tensors_su,\n",
    "                                                       weights_su,\n",
    "                                                       timeStep,\n",
    "                                                       interactionConstants,\n",
    "                                                       0,\n",
    "                                                       Opi,\n",
    "                                                       Opj,\n",
    "                                                       Op_field,\n",
    "                                                       smat,\n",
    "                                                       D_max,\n",
    "                                                       'SU',\n",
    "                                                       graph=None)\n",
    "\n",
    "    error = np.sum(np.abs(np.asarray(weights_su) - np.asarray(weights_su_next)))\n",
    "    errors_su.append(error)\n",
    "    if error < dw:\n",
    "        print('The final error is: {}'.format(error))\n",
    "        tensors_su = tensors_su_next\n",
    "        weights_su = weights_su_next\n",
    "        break\n",
    "    tensors_su = tensors_su_next\n",
    "    weights_su = weights_su_next"
   ]
  },
  {
   "cell_type": "code",
   "execution_count": 12,
   "metadata": {},
   "outputs": [
    {
     "data": {
      "image/png": "[encoded data removed]",
      "text/plain": [
       "<Figure size 432x288 with 1 Axes>"
      ]
     },
     "metadata": {
      "needs_background": "light"
     },
     "output_type": "display_data"
    }
   ],
   "source": [
    "# plot the convergence of weights error between consecutive tSU iterations\n",
    "plt.figure()\n",
    "plt.scatter(range(len(errors_su[:])), errors_su[:])\n",
    "plt.grid()\n",
    "plt.show()"
   ]
  },
  {
   "cell_type": "code",
   "execution_count": null,
   "metadata": {},
   "outputs": [],
   "source": []
  }
 ],
 "metadata": {
  "kernelspec": {
   "display_name": "Python 3",
   "language": "python",
   "name": "python3"
  },
  "language_info": {
   "codemirror_mode": {
    "name": "ipython",
    "version": 3
   },
   "file_extension": ".py",
   "mimetype": "text/x-python",
   "name": "python",
   "nbconvert_exporter": "python",
   "pygments_lexer": "ipython3",
   "version": "3.7.6"
  }
 },
 "nbformat": 4,
 "nbformat_minor": 4
}
