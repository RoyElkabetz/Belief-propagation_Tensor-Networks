{
 "cells": [
  {
   "cell_type": "code",
   "execution_count": 1,
   "metadata": {},
   "outputs": [],
   "source": [
    "import numpy as np\n",
    "import random\n",
    "import time\n",
    "import matplotlib.pyplot as plt\n",
    "import matplotlib._color_data as mcd\n",
    "color_list = ['salmon', 'limegreen', 'mediumturquoise', 'cornflowerblue', 'fuchsia', 'khaki']\n",
    "\n",
    "import copy as cp\n",
    "import pickle\n",
    "import pandas as pd\n",
    "import sys\n",
    "from ipywidgets import IntProgress\n",
    "from IPython.display import display\n",
    "\n",
    "\n",
    "import RandomPEPS as rpeps\n",
    "import StructureMatrixGenerator as smg\n",
    "import trivialSimpleUpdate as tsu\n",
    "import DoubleEdgeFactorGraphs as defg\n",
    "import SimpleUpdate as su\n",
    "import bmpslib as bmps"
   ]
  },
  {
   "cell_type": "markdown",
   "metadata": {},
   "source": [
    "## Comparing convergence time to fixed-point of trivial-Simple Update (tSU) and Belief Propagation (BP) over N different experiments of Heisenberg Antiferromagnetic model PEPS ground-states."
   ]
  },
  {
   "cell_type": "markdown",
   "metadata": {},
   "source": [
    "In this experiment I first found the PEPS ground-state of the AFH model on a 2D lattice\n",
    "\n",
    "$\n",
    "\\begin{align}\n",
    "H = J\\sum_{\\langle i,j\\rangle} \\mathbf{S}_i\\cdot \\mathbf{S}_j\n",
    "\\end{align}\n",
    "$\n",
    "\n",
    "\n",
    "with $J=-1$, using the Belief Propagation Update (BPU) algorithm. Then I calculated the ratio of **BP** iterations $T_{BP}$ to the **tSU** iterations $T_{SU}$ to convergance to a semi-canonical fixed-point. The convergence criteria for both algorithms was takes with respect to the two-body reduced density matrices (RDMs) as follows:\n",
    "\n",
    "$\n",
    "\\begin{align}\n",
    "\\frac{1}{m}\\sum_{\\langle i,j\\rangle} \\|\\rho_{ij}^{BP}-\\rho_{ij}^{tSU}\\|_1<dW\n",
    "\\end{align}\n",
    "$\n",
    "\n",
    "where $m$ coresponds to the number of edges in the tensor network and $dW$ is some pre-determined constant."
   ]
  },
  {
   "cell_type": "code",
   "execution_count": 2,
   "metadata": {},
   "outputs": [],
   "source": [
    "# tSU and BP parameters\n",
    "N, M = 4, 4                                                 # NxM PEPS\n",
    "bc = 'open'                                                   # boundary conditions\n",
    "dw = 1e-6                                                     # maximal error allowed between two-body RDMS\n",
    "d = 2                                                         # tensor network physical bond dimension\n",
    "bond_dimensions = [2, 3, 4]                                   # maximal virtual bond dimensions allowed for truncation\n",
    "t_max = 100                                                   # maximal number of BP iterations\n",
    "epsilon = 1e-10                                               # convergence criteria for BP messages (not used)\n",
    "dumping = 0.                                                  # BP messages dumping between [0, 1]\n",
    "iterations = 100                                              # maximal number of tSU iterations\n",
    "BPU_iterations = 100                                          # maximal number of BPU iterations\n",
    "sched = 'parallel'                                            # tSU scheduling scheme \n",
    "num_experiments = 20                                          # number of random experiments for each bond dimension\n",
    "smat, _ = smg.finitePEPSobcStructureMatrixGenerator(N, M)     # generating the PEPS structure matrix\n",
    "n, m = smat.shape"
   ]
  },
  {
   "cell_type": "markdown",
   "metadata": {},
   "source": [
    "### Initializing the Imaginary Time Evolution parameters for the BPU algorithm"
   ]
  },
  {
   "cell_type": "code",
   "execution_count": 3,
   "metadata": {},
   "outputs": [],
   "source": [
    "# ITE parameters\n",
    "Z = np.array([[1, 0], [0, -1]])\n",
    "Y = np.array([[0, -1j], [1j, 0]])\n",
    "X = np.array([[0, 1], [1, 0]])\n",
    "Sz = 0.5 * Z\n",
    "Sy = 0.5 * Y\n",
    "Sx = 0.5 * X\n",
    "Opi = [Sx, Sy, Sz]\n",
    "Opj = [Sx, Sy, Sz]\n",
    "Op_field = np.eye(d)\n",
    "interactionConstants = [-1] * m\n",
    "timeStep = [0.1, 0.05, 0.01, 0.005, 0.001]"
   ]
  },
  {
   "cell_type": "code",
   "execution_count": 4,
   "metadata": {},
   "outputs": [],
   "source": [
    "ATD_D = []         # Averaged Trace Distance (ATD) for each virtual bond dimension D\n",
    "BP_num_D = []      # numbeer of BP iterations\n",
    "tSU_num_D = []     # numbeer of tSU iterations"
   ]
  },
  {
   "cell_type": "markdown",
   "metadata": {},
   "source": [
    "## RUN"
   ]
  },
  {
   "cell_type": "code",
   "execution_count": 5,
   "metadata": {},
   "outputs": [
    {
     "name": "stdout",
     "output_type": "stream",
     "text": [
      "\n",
      "=-=-=-=-=-=-=-=-=-=-=-=-=-=-=-=-=-=-=\n",
      "|               D = 2               |\n",
      "=-=-=-=-=-=-=-=-=-=-=-=-=-=-=-=-=-=-=\n"
     ]
    },
    {
     "data": {
      "application/vnd.jupyter.widget-view+json": {
       "model_id": "f50d930d7cc84f14a7aee44062fb4d8f",
       "version_major": 2,
       "version_minor": 0
      },
      "text/plain": [
       "IntProgress(value=0, bar_style='success', description='Runing:', max=10000)"
      ]
     },
     "metadata": {},
     "output_type": "display_data"
    },
    {
     "name": "stdout",
     "output_type": "stream",
     "text": [
      "The ground state Energy (per site) is: (-0.532203-0j)\n",
      "The ground state Energy (per site) is: (-0.532203-0j)\n",
      "The ground state Energy (per site) is: (-0.532203+0j)\n",
      "The ground state Energy (per site) is: (-0.532203+0j)\n",
      "The ground state Energy (per site) is: (-0.532203+0j)\n",
      "The ground state Energy (per site) is: (-0.532203+0j)\n",
      "The ground state Energy (per site) is: (-0.532203-0j)\n",
      "The ground state Energy (per site) is: (-0.532203-0j)\n",
      "The ground state Energy (per site) is: (-0.532203+0j)\n",
      "The ground state Energy (per site) is: (-0.532203-0j)\n",
      "The ground state Energy (per site) is: (-0.532203-0j)\n",
      "The ground state Energy (per site) is: (-0.532203-0j)\n",
      "The ground state Energy (per site) is: (-0.532203+0j)\n",
      "The ground state Energy (per site) is: (-0.532203+0j)\n",
      "The ground state Energy (per site) is: (-0.532203+0j)\n",
      "The ground state Energy (per site) is: (-0.532203+0j)\n",
      "The ground state Energy (per site) is: (-0.532203+0j)\n",
      "The ground state Energy (per site) is: (-0.532203+0j)\n",
      "The ground state Energy (per site) is: (-0.532203+0j)\n",
      "The ground state Energy (per site) is: (-0.532203-0j)\n",
      "\n",
      "=-=-=-=-=-=-=-=-=-=-=-=-=-=-=-=-=-=-=\n",
      "|               D = 3               |\n",
      "=-=-=-=-=-=-=-=-=-=-=-=-=-=-=-=-=-=-=\n"
     ]
    },
    {
     "data": {
      "application/vnd.jupyter.widget-view+json": {
       "model_id": "7d8e9fea44e3448885b2bbfa5ddf3292",
       "version_major": 2,
       "version_minor": 0
      },
      "text/plain": [
       "IntProgress(value=0, bar_style='success', description='Runing:', max=10000)"
      ]
     },
     "metadata": {},
     "output_type": "display_data"
    },
    {
     "name": "stdout",
     "output_type": "stream",
     "text": [
      "The ground state Energy (per site) is: (-0.535272+0j)\n",
      "The ground state Energy (per site) is: (-0.535272-0j)\n",
      "The ground state Energy (per site) is: (-0.535272+0j)\n",
      "The ground state Energy (per site) is: (-0.535272-0j)\n",
      "The ground state Energy (per site) is: (-0.535272-0j)\n",
      "The ground state Energy (per site) is: (-0.535272+0j)\n",
      "The ground state Energy (per site) is: (-0.535272+0j)\n",
      "The ground state Energy (per site) is: (-0.535272+0j)\n",
      "The ground state Energy (per site) is: (-0.535272+0j)\n",
      "The ground state Energy (per site) is: (-0.535272+0j)\n",
      "The ground state Energy (per site) is: (-0.535272+0j)\n",
      "The ground state Energy (per site) is: (-0.535272+0j)\n",
      "The ground state Energy (per site) is: (-0.535272-0j)\n",
      "The ground state Energy (per site) is: (-0.535272-0j)\n",
      "The ground state Energy (per site) is: (-0.535272+0j)\n",
      "The ground state Energy (per site) is: (-0.535272+0j)\n",
      "The ground state Energy (per site) is: (-0.535272-0j)\n",
      "The ground state Energy (per site) is: (-0.535272-0j)\n",
      "The ground state Energy (per site) is: (-0.535272-0j)\n",
      "The ground state Energy (per site) is: (-0.535272+0j)\n",
      "\n",
      "=-=-=-=-=-=-=-=-=-=-=-=-=-=-=-=-=-=-=\n",
      "|               D = 4               |\n",
      "=-=-=-=-=-=-=-=-=-=-=-=-=-=-=-=-=-=-=\n"
     ]
    },
    {
     "data": {
      "application/vnd.jupyter.widget-view+json": {
       "model_id": "d1950499b6234aa48595aaeb0b2dd183",
       "version_major": 2,
       "version_minor": 0
      },
      "text/plain": [
       "IntProgress(value=0, bar_style='success', description='Runing:', max=10000)"
      ]
     },
     "metadata": {},
     "output_type": "display_data"
    },
    {
     "name": "stdout",
     "output_type": "stream",
     "text": [
      "The ground state Energy (per site) is: (-0.537052-0j)\n",
      "The ground state Energy (per site) is: (-0.537052-0j)\n",
      "The ground state Energy (per site) is: (-0.537052-0j)\n",
      "The ground state Energy (per site) is: (-0.537052-0j)\n",
      "The ground state Energy (per site) is: (-0.537052+0j)\n",
      "The ground state Energy (per site) is: (-0.537052-0j)\n",
      "The ground state Energy (per site) is: (-0.537052-0j)\n",
      "The ground state Energy (per site) is: (-0.537052+0j)\n",
      "The ground state Energy (per site) is: (-0.537052+0j)\n",
      "The ground state Energy (per site) is: (-0.537052+0j)\n",
      "The ground state Energy (per site) is: (-0.537052+0j)\n",
      "The ground state Energy (per site) is: (-0.537052+0j)\n",
      "The ground state Energy (per site) is: (-0.537052+0j)\n",
      "The ground state Energy (per site) is: (-0.537052-0j)\n",
      "The ground state Energy (per site) is: (-0.537052-0j)\n",
      "The ground state Energy (per site) is: (-0.537052+0j)\n",
      "The ground state Energy (per site) is: (-0.537052+0j)\n",
      "The ground state Energy (per site) is: (-0.537052+0j)\n",
      "The ground state Energy (per site) is: (-0.537052-0j)\n",
      "The ground state Energy (per site) is: (-0.537052-0j)\n"
     ]
    }
   ],
   "source": [
    "for D_max in bond_dimensions:\n",
    "    ATD_tot = []\n",
    "    BP_iters = []\n",
    "    tSU_iters = []\n",
    "    print('\\n=-=-=-=-=-=-=-=-=-=-=-=-=-=-=-=-=-=-=')\n",
    "    print('|               D = {}               |'.format(D_max))\n",
    "    print('=-=-=-=-=-=-=-=-=-=-=-=-=-=-=-=-=-=-=')\n",
    "    \n",
    "\n",
    "    f = IntProgress(min=0,\n",
    "                    max=num_experiments * len(timeStep) * BPU_iterations,\n",
    "                    description='Runing:',\n",
    "                    bar_style='success') # instantiate the bar\n",
    "    display(f) # display the bar\n",
    "    for e in range(num_experiments):\n",
    "        \n",
    "        # draw some random PEPS Tensor Network\n",
    "        tensors, weights = smg.randomTensornetGenerator(smat, d, D_max)\n",
    "        \n",
    "        BPU_graph = defg.defg()\n",
    "        BPU_graph = su.TNtoDEFGtransform(BPU_graph, tensors, weights, smat)\n",
    "        BPU_graph.sumProduct(t_max, epsilon, dumping, initializeMessages=1, printTime=0, RDMconvergence=0)\n",
    "        \n",
    "        for dt in timeStep:\n",
    "            for i in range(BPU_iterations):\n",
    "                f.value += 1 # signal to increment the progress bar\n",
    "                weights_prev = cp.deepcopy(weights)\n",
    "                tensors_next, weights_next = su.simpleUpdate(tensors,\n",
    "                                                             weights,\n",
    "                                                             dt,\n",
    "                                                             interactionConstants,\n",
    "                                                             0,\n",
    "                                                             Opi,\n",
    "                                                             Opj,\n",
    "                                                             Op_field,\n",
    "                                                             smat,\n",
    "                                                             D_max,\n",
    "                                                             'BP',\n",
    "                                                             graph=BPU_graph)\n",
    "                BPU_graph.sumProduct(t_max,\n",
    "                                     epsilon,\n",
    "                                     dumping,\n",
    "                                     initializeMessages=1,\n",
    "                                     printTime=0,\n",
    "                                     RDMconvergence=0)\n",
    "                \n",
    "                if np.sum(np.abs(np.asarray(weights_prev) - np.asarray(weights_next))) < dt * 1e-3:\n",
    "                    tensors = tensors_next\n",
    "                    weights = weights_next\n",
    "                    f.value += (BPU_iterations - i - 1) # signal to increment the progress bar\n",
    "                    break\n",
    "                tensors = tensors_next\n",
    "                weights = weights_next\n",
    "        ground_state_energy = su.energyPerSite(tensors,\n",
    "                                               weights,\n",
    "                                               smat,\n",
    "                                               interactionConstants,\n",
    "                                               0,\n",
    "                                               Opi,\n",
    "                                               Opj,\n",
    "                                               Op_field)\n",
    "        print('The ground state Energy (per site) is: {}'.format(np.round(ground_state_energy, 6)))\n",
    "\n",
    "        # constructing the dual double-edge factor graph and run a single BP iteration\n",
    "        BP_tensors, BP_weights = cp.deepcopy(tensors), cp.deepcopy(weights)\n",
    "        graph = defg.defg()\n",
    "        graph = su.TNtoDEFGtransform(graph, BP_tensors, BP_weights, smat)\n",
    "        graph.sumProduct(1, epsilon, dumping, initializeMessages=1, printTime=0, RDMconvergence=0)\n",
    "        BP_rdm = []\n",
    "        for j in range(m):\n",
    "                BP_rdm.append(tsu.BPdoubleSiteRDM1(j, BP_tensors, BP_weights, smat, cp.deepcopy(graph.messages_n2f)))\n",
    "\n",
    "        # run BP and calculate two body rdms between two consecutive BP iterations\n",
    "        for t in range(t_max):\n",
    "            graph.sumProduct(1, epsilon, dumping, initializeMessages=1, printTime=0, RDMconvergence=0)\n",
    "\n",
    "            ATD_BP = 0\n",
    "            BP_rdm_next = []\n",
    "            for j in range(m):\n",
    "                BP_rdm_next.append(tsu.BPdoubleSiteRDM1(j,\n",
    "                                                        BP_tensors,\n",
    "                                                        BP_weights,\n",
    "                                                        smat,\n",
    "                                                        cp.deepcopy(graph.messages_n2f)))\n",
    "\n",
    "                ATD_BP += tsu.traceDistance(BP_rdm_next[j], BP_rdm[j])\n",
    "                BP_rdm[j] = BP_rdm_next[j]\n",
    "            ATD_BP /= m\n",
    "            #print('The ATD_BP is: {} at iteration {}'.format(ATD_BP, t))\n",
    "            if ATD_BP < dw:\n",
    "                #print('\\n')\n",
    "                #print('The final ATD_BP is: {} at iteration {}'.format(ATD_BP, t + 1))\n",
    "                break\n",
    "        BP_iters.append(t + 2)\n",
    "\n",
    "        # calculate the double site rdm in tsu\n",
    "        tSU_rdm = []\n",
    "        for i in range(m):\n",
    "            tSU_rdm.append(tsu.doubleSiteRDM(i, tensors, weights, smat))   \n",
    "\n",
    "\n",
    "        # trivial SU run\n",
    "        for i in range(iterations):\n",
    "            tensors_next, weights_next = tsu.trivialsimpleUpdate(tensors,\n",
    "                                                                 weights,\n",
    "                                                                 smat,\n",
    "                                                                 D_max, \n",
    "                                                                 scheduling='parallel')\n",
    "            ATD = 0\n",
    "            tSU_rdm_next = []\n",
    "            for j in range(m):\n",
    "                tSU_rdm_next.append(tsu.doubleSiteRDM(j, tensors_next, weights_next, smat))\n",
    "                ATD += tsu.traceDistance(tSU_rdm_next[j], tSU_rdm[j])\n",
    "                tSU_rdm[j] = tSU_rdm_next[j]\n",
    "            ATD /= m\n",
    "            if ATD < dw:\n",
    "                #print('The ATD is: {} at iteration {}'.format(ATD, i))\n",
    "                tensors = tensors_next\n",
    "                weights = weights_next\n",
    "                break\n",
    "            tensors = tensors_next\n",
    "            weights = weights_next  \n",
    "        tSU_iters.append(i + 1)\n",
    "\n",
    "\n",
    "        # calculate Averaged Trace Distance between the BP and tSU rdms.\n",
    "        ATD_BP_tSU = 0\n",
    "        for i in range(m):\n",
    "            ATD_BP_tSU += tsu.traceDistance(BP_rdm[i], tSU_rdm[i])\n",
    "        ATD_BP_tSU /= m\n",
    "        #print('the total ATD between BP and tSU is {}'.format(ATD_BP_tSU))\n",
    "        ATD_tot.append(ATD_BP_tSU)\n",
    "        \n",
    "        \n",
    "    ATD_D.append(ATD_tot)\n",
    "    BP_num_D.append(BP_iters)\n",
    "    tSU_num_D.append(tSU_iters)  \n"
   ]
  },
  {
   "cell_type": "markdown",
   "metadata": {},
   "source": [
    "## PLOT RESULTS"
   ]
  },
  {
   "cell_type": "code",
   "execution_count": 10,
   "metadata": {},
   "outputs": [
    {
     "data": {
      "image/png": "[encoded data removed]",
      "text/plain": [
       "<Figure size 864x576 with 1 Axes>"
      ]
     },
     "metadata": {
      "needs_background": "light"
     },
     "output_type": "display_data"
    }
   ],
   "source": [
    "name = 'Ground state of ' + str(N) + 'x' + str(M) + ' AFH with random coupling'\n",
    "plt.figure(figsize=(12, 8))\n",
    "fonts = 20\n",
    "names = []\n",
    "for i, D in enumerate(bond_dimensions):\n",
    " \n",
    "    plt.scatter(range(1, num_experiments + 1),\n",
    "                np.asarray(BP_num_D[i]) / np.asarray(tSU_num_D[i]),\n",
    "                color=mcd.CSS4_COLORS[color_list[i]], \n",
    "                s=50)\n",
    "    \n",
    "    plt.plot(range(1, num_experiments + 1),\n",
    "             np.mean(np.asarray(BP_num_D[i]) / np.asarray(tSU_num_D[i])) * np.ones((num_experiments, 1)),\n",
    "             '--',\n",
    "             color=mcd.CSS4_COLORS[color_list[i]])\n",
    "    \n",
    "    names.append('D = ' + str(D))\n",
    "plt.title(name, fontsize=fonts)\n",
    "plt.xlabel('Experiment number', fontsize=fonts)\n",
    "plt.ylabel('T(BP) / T(SU)', fontsize=fonts)\n",
    "plt.xticks(list(range(1, num_experiments + 1, 2)))\n",
    "plt.legend(names, fontsize=fonts)\n",
    "plt.grid()\n",
    "#plt.show()\n",
    "plt.savefig(name + '.svg', format=\"svg\")\n",
    "#plt.savefig(name + '.pdf')"
   ]
  },
  {
   "cell_type": "code",
   "execution_count": 7,
   "metadata": {},
   "outputs": [
    {
     "data": {
      "text/plain": [
       "[41,\n",
       " 40,\n",
       " 46,\n",
       " 38,\n",
       " 43,\n",
       " 40,\n",
       " 50,\n",
       " 40,\n",
       " 43,\n",
       " 43,\n",
       " 43,\n",
       " 44,\n",
       " 40,\n",
       " 50,\n",
       " 50,\n",
       " 42,\n",
       " 47,\n",
       " 40,\n",
       " 42,\n",
       " 46]"
      ]
     },
     "execution_count": 7,
     "metadata": {},
     "output_type": "execute_result"
    }
   ],
   "source": [
    "BP_num_D[2]"
   ]
  },
  {
   "cell_type": "code",
   "execution_count": null,
   "metadata": {},
   "outputs": [],
   "source": []
  }
 ],
 "metadata": {
  "kernelspec": {
   "display_name": "Python 3",
   "language": "python",
   "name": "python3"
  },
  "language_info": {
   "codemirror_mode": {
    "name": "ipython",
    "version": 3
   },
   "file_extension": ".py",
   "mimetype": "text/x-python",
   "name": "python",
   "nbconvert_exporter": "python",
   "pygments_lexer": "ipython3",
   "version": "3.7.6"
  }
 },
 "nbformat": 4,
 "nbformat_minor": 4
}
