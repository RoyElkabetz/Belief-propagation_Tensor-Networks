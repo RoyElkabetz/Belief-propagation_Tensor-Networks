{
 "cells": [
  {
   "cell_type": "code",
   "execution_count": 1,
   "metadata": {},
   "outputs": [],
   "source": [
    "import numpy as np\n",
    "import random\n",
    "import time\n",
    "import matplotlib.pyplot as plt\n",
    "import copy as cp\n",
    "import pickle\n",
    "import pandas as pd\n",
    "\n",
    "import StructureMatrixGenerator as smg\n",
    "import trivialSimpleUpdate as tsu\n",
    "import DoubleEdgeFactorGraphs as defg\n",
    "import SimpleUpdate as su\n",
    "import bmpslib as bmps"
   ]
  },
  {
   "cell_type": "markdown",
   "metadata": {},
   "source": [
    "# Comparing trivial-SImple Update (tSU) and Belief Propagation (BP) fixed-point convergence on random PEPS\n",
    "\n",
    "**=-=-=-=-=-=-=-=-=-=  SUMMARY  =-=-=-=-=-=-=-=-=-=**\n",
    "\n",
    "In this experiment I inizilize 4 copies of a randomaly drawn **Projected Entangled Pair State (PEPS)** and compared the fixed-point two-body **reduced density matrices (RDMs)** of these copies using 4 different algorithms:\n",
    "1. Belief Propagation (BP)\n",
    "2. trivial-SU (parallel scheduling)\n",
    "3. trivial-SU (serial scheduling)\n",
    "2. Boundary Matrix Product Operator (BMPO)\n",
    "\n",
    "The differerence between the serial and parallel tSU scheduling is as follows:\n",
    "Parallel: iterating over all of the tensor network edges in some fixed order and update every two tensors using a local SVD operation. The updated tensors than put back into the tensor network and we move to the next edge in order.\n",
    "Series:  iterating over all of the tensor network edges in some fixed order and update every two tensors using a local SVD operation. The two updated tensors are held in a copy tensor network and are not used in the rest of the update scheme. Thus, making a clear separation between the tensor network at time $t$ to the updated tensor network at time $t+1$.\n",
    "\n",
    "**=-=-=-=-=-=-=-=-=  CONCLUSIONS  =-=-=-=-=-=-=-=-=**\n",
    "\n",
    "In retrospective it turns out that the **trivial-SU (serial scheduling)** is nonsense. If a tensor has more then one virtual edge it is not clear which tensor would take its place at the next iteration because it would be updated according to the number of its entering edges. Numerically, these scheduling scheme is taking much more time to converge to a fixed-point and from the numerical result in this notebook it seems that this fixed-point is different from the one shared by BP and tSU \"parallel\".\n",
    "\n",
    "Finally, I kept the code as is, with all 4 algorithms. "
   ]
  },
  {
   "cell_type": "code",
   "execution_count": 2,
   "metadata": {},
   "outputs": [],
   "source": [
    "# tSU and BP parameters\n",
    "N, M = 8, 8                                                   # NxM PEPS\n",
    "bc = 'open'                                                   # boundary conditions\n",
    "dw = 1e-6                                                     # maximal error allowed between two-body RDMS\n",
    "d = 2                                                         # tensor network physical bond dimension\n",
    "D_max = 3                                                     # maximal virtual bond dimension allowed for truncation\n",
    "t_max = 80                                                    # maximal number of BP iterations\n",
    "epsilon = 1e-10                                               # convergence criteria for BP messages (not used)\n",
    "dumping = 0.                                                  # BP messages dumping between [0, 1]\n",
    "iterations = 100                                              # maximal number of tSU iterations\n",
    "smat, _ = smg.finitePEPSobcStructureMatrixGenerator(N, M)     # generating the PEPS structure matrix\n",
    "n, m = smat.shape"
   ]
  },
  {
   "cell_type": "markdown",
   "metadata": {},
   "source": [
    "### Initializing random PEPS copies"
   ]
  },
  {
   "cell_type": "code",
   "execution_count": 3,
   "metadata": {},
   "outputs": [],
   "source": [
    "# get random PEPS tensor network\n",
    "tensors, weights = smg.randomTensornetGenerator(smat, d, D_max)\n",
    "\n",
    "# get copies of tensor network\n",
    "BP_tensors, BP_weights           = cp.deepcopy(tensors), cp.deepcopy(weights)\n",
    "BMPO_tensors, BMPO_weights       = cp.deepcopy(tensors), cp.deepcopy(weights)\n",
    "tsu_par_tensors, tsu_par_weights = cp.deepcopy(tensors), cp.deepcopy(weights)\n",
    "tsu_ser_tensors, tsu_ser_weights = cp.deepcopy(tensors), cp.deepcopy(weights)"
   ]
  },
  {
   "cell_type": "markdown",
   "metadata": {},
   "source": [
    "### BP:"
   ]
  },
  {
   "cell_type": "code",
   "execution_count": 4,
   "metadata": {},
   "outputs": [],
   "source": [
    "# constructing the dual double-edge factor graph and run a single BP iteration\n",
    "graph = defg.defg()\n",
    "graph = su.TNtoDEFGtransform(graph, BP_tensors, BP_weights, smat)\n",
    "graph.sumProduct(1, epsilon, dumping, initializeMessages=1, printTime=1, RDMconvergence=0)\n",
    "BP_rdm = []\n",
    "for j in range(m):\n",
    "        BP_rdm.append(tsu.BPdoubleSiteRDM1(j, BP_tensors, BP_weights, smat, cp.deepcopy(graph.messages_n2f)))"
   ]
  },
  {
   "cell_type": "code",
   "execution_count": 5,
   "metadata": {},
   "outputs": [
    {
     "name": "stdout",
     "output_type": "stream",
     "text": [
      "The ATD_BP is: 0.0011071729536162873 at iteration 0\n",
      "The ATD_BP is: 0.00016521335137383646 at iteration 1\n",
      "The ATD_BP is: 2.255061035485507e-05 at iteration 2\n",
      "The ATD_BP is: 3.412911591428528e-06 at iteration 3\n",
      "The ATD_BP is: 4.765417199678164e-07 at iteration 4\n",
      "\n",
      "\n",
      "The final ATD_BP is: 4.765417199678164e-07 at iteration 6\n"
     ]
    }
   ],
   "source": [
    " # run BP and calculate two body rdms between two consecutive BP iterations\n",
    "for t in range(t_max):\n",
    "    graph.sumProduct(1, epsilon, dumping, initializeMessages=1, printTime=1, RDMconvergence=0)\n",
    "    \n",
    "    ATD_BP = 0\n",
    "    BP_rdm_next = []\n",
    "    for j in range(m):\n",
    "        BP_rdm_next.append(tsu.BPdoubleSiteRDM1(j,\n",
    "                                                BP_tensors,\n",
    "                                                BP_weights,\n",
    "                                                smat,\n",
    "                                                cp.deepcopy(graph.messages_n2f)))\n",
    "        \n",
    "        ATD_BP += tsu.traceDistance(BP_rdm_next[j], BP_rdm[j])\n",
    "        BP_rdm[j] = BP_rdm_next[j]\n",
    "    ATD_BP /= m\n",
    "    print('The ATD_BP is: {} at iteration {}'.format(ATD_BP, t))\n",
    "    if ATD_BP < dw:\n",
    "        print('\\n')\n",
    "        print('The final ATD_BP is: {} at iteration {}'.format(ATD_BP, t + 2))\n",
    "        break"
   ]
  },
  {
   "cell_type": "markdown",
   "metadata": {},
   "source": [
    "### tSU \"parallel\" scheduling:"
   ]
  },
  {
   "cell_type": "code",
   "execution_count": 6,
   "metadata": {},
   "outputs": [],
   "source": [
    "# calculate the double site rdm in parallel tsu\n",
    "tSU_par_rdm = []\n",
    "for i in range(m):\n",
    "    tSU_par_rdm.append(tsu.doubleSiteRDM(i, tsu_par_tensors, tsu_par_weights, smat))"
   ]
  },
  {
   "cell_type": "code",
   "execution_count": 7,
   "metadata": {},
   "outputs": [
    {
     "name": "stderr",
     "output_type": "stream",
     "text": [
      "/Users/royelkabetz/Git/QBPmodule/trivialSimpleUpdate.py:336: FutureWarning: Using a non-tuple sequence for multidimensional indexing is deprecated; use `arr[tuple(seq)]` instead of `arr[seq]`. In the future this will be interpreted as an array index, `arr[np.array(seq)]`, which will result either in an error or a different result.\n",
      "  leftDim = np.prod(shape[[leftIdx]])\n",
      "/Users/royelkabetz/Git/QBPmodule/trivialSimpleUpdate.py:337: FutureWarning: Using a non-tuple sequence for multidimensional indexing is deprecated; use `arr[tuple(seq)]` instead of `arr[seq]`. In the future this will be interpreted as an array index, `arr[np.array(seq)]`, which will result either in an error or a different result.\n",
      "  rightDim = np.prod(shape[[rightIdx]])\n"
     ]
    },
    {
     "name": "stdout",
     "output_type": "stream",
     "text": [
      "The ATD is: 2.3217774106293488e-07 at iteration 7\n"
     ]
    }
   ],
   "source": [
    "# parallel trivial SU run\n",
    "for i in range(iterations):\n",
    "    tsu_par_tensors_next, tsu_par_weights_next = tsu.trivialsimpleUpdate(tsu_par_tensors,\n",
    "                                                                         tsu_par_weights,\n",
    "                                                                         smat,\n",
    "                                                                         D_max, \n",
    "                                                                         scheduling='parallel')\n",
    "    ATD = 0\n",
    "    tSU_par_rdm_next = []\n",
    "    for j in range(m):\n",
    "        tSU_par_rdm_next.append(tsu.doubleSiteRDM(j, tsu_par_tensors_next, tsu_par_weights_next, smat))\n",
    "        ATD += tsu.traceDistance(tSU_par_rdm_next[j], tSU_par_rdm[j])\n",
    "        tSU_par_rdm[j] = tSU_par_rdm_next[j]\n",
    "    ATD /= m\n",
    "    if ATD < dw:\n",
    "        print('The ATD is: {} at iteration {}'.format(ATD, i))\n",
    "        tsu_par_tensors = tsu_par_tensors_next\n",
    "        tsu_par_weights = tsu_par_weights_next\n",
    "        break\n",
    "    tsu_par_tensors = tsu_par_tensors_next\n",
    "    tsu_par_weights = tsu_par_weights_next"
   ]
  },
  {
   "cell_type": "markdown",
   "metadata": {},
   "source": [
    "### tSU \"series\" scheduling:"
   ]
  },
  {
   "cell_type": "code",
   "execution_count": 8,
   "metadata": {},
   "outputs": [],
   "source": [
    "# calculate the double site rdm in series tsu\n",
    "tSU_ser_rdm = []\n",
    "for i in range(m):\n",
    "    tSU_ser_rdm.append(tsu.doubleSiteRDM(i, tsu_ser_tensors, tsu_ser_weights, smat))"
   ]
  },
  {
   "cell_type": "code",
   "execution_count": 9,
   "metadata": {},
   "outputs": [
    {
     "name": "stdout",
     "output_type": "stream",
     "text": [
      "The ATD is: 9.958176849308073e-07 at iteration 17\n"
     ]
    }
   ],
   "source": [
    "# series trivial SU run\n",
    "for i in range(iterations):\n",
    "    tsu_ser_tensors_next, tsu_ser_weights_next = tsu.trivialsimpleUpdate(tsu_ser_tensors,\n",
    "                                                                         tsu_ser_weights,\n",
    "                                                                         smat,\n",
    "                                                                         D_max, \n",
    "                                                                         scheduling='series')\n",
    "    ATD = 0\n",
    "    tSU_ser_rdm_next = []\n",
    "    for j in range(m):\n",
    "        tSU_ser_rdm_next.append(tsu.doubleSiteRDM(j, tsu_ser_tensors_next, tsu_ser_weights_next, smat))\n",
    "        ATD += tsu.traceDistance(tSU_ser_rdm_next[j], tSU_ser_rdm[j])\n",
    "        tSU_ser_rdm[j] = tSU_ser_rdm_next[j]\n",
    "    ATD /= m\n",
    "    if ATD < dw:\n",
    "        print('The ATD is: {} at iteration {}'.format(ATD, i))\n",
    "        tsu_ser_tensors = tsu_ser_tensors_next\n",
    "        tsu_ser_weights = tsu_ser_weights_next\n",
    "        break\n",
    "    tsu_ser_tensors = tsu_ser_tensors_next\n",
    "    tsu_ser_weights = tsu_ser_weights_next"
   ]
  },
  {
   "cell_type": "markdown",
   "metadata": {},
   "source": [
    "### Exact calculations using BMPO "
   ]
  },
  {
   "cell_type": "code",
   "execution_count": 10,
   "metadata": {},
   "outputs": [
    {
     "name": "stdout",
     "output_type": "stream",
     "text": [
      "edge 0 rdm: \n",
      "real part\n",
      "[[0.22821273 0.24926758 0.24926758 0.27386604]\n",
      " [0.2289367  0.24244176 0.25222962 0.26814698]\n",
      " [0.2289367  0.25222962 0.24244176 0.26814698]\n",
      " [0.23309635 0.24812212 0.24812212 0.26482488]]\n",
      "imaginary part\n",
      "[[-3.83798872e-19  1.77378517e-02 -1.77378517e-02 -5.58011374e-18]\n",
      " [ 2.79215577e-02  4.00802687e-02  1.26869799e-02  2.49456363e-02]\n",
      " [-2.79215577e-02 -1.26869799e-02 -4.00802687e-02 -2.49456363e-02]\n",
      " [ 3.54740977e-18  1.05610886e-02 -1.05610886e-02  2.41650284e-18]]\n"
     ]
    }
   ],
   "source": [
    "# RDMS using BMPO from bmpslib\n",
    "tensors_p = su.absorbAllTensorNetWeights(cp.deepcopy(BMPO_tensors), cp.deepcopy(BMPO_weights), smat)\n",
    "tensors_p = smg.PEPS_OBC_broadcast_to_Itai(tensors_p, [N, M], d, D_max)\n",
    "peps = bmps.peps(N, M)\n",
    "for t, T in enumerate(tensors_p):\n",
    "    i, j = np.unravel_index(t, [N, M])\n",
    "    peps.set_site(T, i, j)\n",
    "bmpo_RDMS = bmps.calculate_PEPS_2RDM(peps, int(2 * (D_max ** 2)))\n",
    "for i in range(len(bmpo_RDMS)):\n",
    "    bmpo_RDMS[i] = np.reshape(bmpo_RDMS[i], (d * d, d * d))\n",
    "print('edge 0 rdm: \\nreal part\\n{}\\nimaginary part\\n{}'.format(np.real(bmpo_RDMS[0]), np.imag(bmpo_RDMS[0])))\n"
   ]
  },
  {
   "cell_type": "code",
   "execution_count": 11,
   "metadata": {},
   "outputs": [],
   "source": [
    "def getBMPOedgeList(N, M, smat):\n",
    "    TN = np.arange(N * M).reshape(N, M)\n",
    "    Hpairs = []\n",
    "    Vpairs = []\n",
    "    HedgeList = []\n",
    "    VedgeList = []\n",
    "    for i in range(N):\n",
    "        for j in range(M - 1):\n",
    "            tH1 = TN[i][j]\n",
    "            tH2 = TN[i][j + 1]\n",
    "            Hpairs.append([tH1, tH2])\n",
    "\n",
    "    for i in range(N - 1):\n",
    "        for j in range(M):\n",
    "            tV1 = TN[i][j]\n",
    "            tV2 = TN[i + 1][j]\n",
    "            Vpairs.append([tV1, tV2])\n",
    "\n",
    "    for i, pair in enumerate(Hpairs):\n",
    "        for k in range(m):\n",
    "            if smat[pair[0], k] and smat[pair[1], k]:\n",
    "                HedgeList.append(k)\n",
    "                break\n",
    "    for i, pair in enumerate(Vpairs):\n",
    "        for k in range(m):\n",
    "            if smat[pair[0], k] and smat[pair[1], k]:\n",
    "                VedgeList.append(k)\n",
    "                break\n",
    "\n",
    "    return HedgeList + VedgeList"
   ]
  },
  {
   "cell_type": "markdown",
   "metadata": {},
   "source": [
    "### Comparing two-body reduced density matrices (RDM) between BP, tSU \"parallel\", tSU \"series\", BMPO "
   ]
  },
  {
   "cell_type": "code",
   "execution_count": 12,
   "metadata": {},
   "outputs": [],
   "source": [
    "# get the order of the BMPO edges and calculate the ATDs\n",
    "edgeList = getBMPOedgeList(N, M, smat)\n",
    "\n",
    "# ATD\n",
    "ATD_bmpo_BP = 0\n",
    "ATD_bmpo_tsu_par = 0\n",
    "ATD_bmpo_tsu_ser = 0\n",
    "ATD_BP_tsu_par = 0\n",
    "ATD_BP_tsu_ser = 0\n",
    "ATD_tsu_par_ser = 0\n",
    "\n",
    "for i in range(m):\n",
    "    ATD_bmpo_BP += tsu.traceDistance(bmpo_RDMS[i], BP_rdm[edgeList[i]])\n",
    "    ATD_bmpo_tsu_par += tsu.traceDistance(bmpo_RDMS[i], tSU_par_rdm[edgeList[i]])\n",
    "    ATD_bmpo_tsu_ser += tsu.traceDistance(bmpo_RDMS[i], tSU_ser_rdm[edgeList[i]])\n",
    "    ATD_BP_tsu_par += tsu.traceDistance(BP_rdm[edgeList[i]], tSU_par_rdm[edgeList[i]])\n",
    "    ATD_BP_tsu_ser += tsu.traceDistance(BP_rdm[edgeList[i]], tSU_ser_rdm[edgeList[i]])\n",
    "    ATD_tsu_par_ser += tsu.traceDistance(tSU_ser_rdm[edgeList[i]], tSU_par_rdm[edgeList[i]])\n",
    "    \n",
    "ATD_bmpo_BP /= m\n",
    "ATD_bmpo_tsu_par /= m\n",
    "ATD_bmpo_tsu_ser /= m\n",
    "ATD_BP_tsu_par /= m\n",
    "ATD_BP_tsu_ser /= m\n",
    "ATD_tsu_par_ser /= m"
   ]
  },
  {
   "cell_type": "code",
   "execution_count": 13,
   "metadata": {},
   "outputs": [
    {
     "name": "stdout",
     "output_type": "stream",
     "text": [
      "\n",
      "=-=-=-=-=-=-=-=-=-=-=-=-=-=-=-=-=-=-=-=-=-=-=-=-=-=-=-\n",
      "|    8x8 random PEPS tensor network (d,D) = (2,3)    |\n",
      "|<><><><><><><><><><><><><><><><><><><><><><><><><><>|\n",
      "|     Averaged Trace Distance (ATD) calculations     |\n",
      "=-=-=-=-=-=-=-=-=-=-=-=-=-=-=-=-=-=-=-=-=-=-=-=-=-=-=-\n",
      "| RESULTS:                                          \n",
      "|                                                   \n",
      "| ATD(BMPO - BP)                       = 0.03891582     \n",
      "| ATD(BMPO - tSU \"parallel\")           = 0.03891583     \n",
      "| ATD(BMPO - tSU \"series\")             = 0.24034837     \n",
      "| ATD(BP - tSU \"parallel\")             = 7e-08          \n",
      "| ATD(BP - tSU \"series\")               = 0.24046608     \n",
      "| ATD(tSU \"series\" - \"parallel\")       = 0.24046608     \n",
      "|                                                   \n",
      "=-=-=-=-=-=-=-=-=-=-=-=-=-=-=-=-=-=-=-=-=-=-=-=-=-=-=-\n"
     ]
    }
   ],
   "source": [
    "# print results to screen\n",
    "print('\\n=-=-=-=-=-=-=-=-=-=-=-=-=-=-=-=-=-=-=-=-=-=-=-=-=-=-=-')\n",
    "print('|    {}x{} random PEPS tensor network (d,D) = ({},{})    |'.format(N, M, d, D_max))\n",
    "print('|<><><><><><><><><><><><><><><><><><><><><><><><><><>|')\n",
    "print('|     Averaged Trace Distance (ATD) calculations     |'  )\n",
    "print('=-=-=-=-=-=-=-=-=-=-=-=-=-=-=-=-=-=-=-=-=-=-=-=-=-=-=-'  )\n",
    "print('| RESULTS:                                          '  )\n",
    "print('|                                                   '  )\n",
    "print('| ATD(BMPO - BP)                       = {}     '.format(np.round(ATD_bmpo_BP, 8)))\n",
    "print('| ATD(BMPO - tSU \"parallel\")           = {}     '.format(np.round(ATD_bmpo_tsu_par, 8)))\n",
    "print('| ATD(BMPO - tSU \"series\")             = {}     '.format(np.round(ATD_bmpo_tsu_ser, 8)))\n",
    "print('| ATD(BP - tSU \"parallel\")             = {}          '.format(np.round(ATD_BP_tsu_par, 8)))\n",
    "print('| ATD(BP - tSU \"series\")               = {}     '.format(np.round(ATD_BP_tsu_ser, 8)))\n",
    "print('| ATD(tSU \"series\" - \"parallel\")       = {}     '.format(np.round(ATD_tsu_par_ser, 8)))\n",
    "print('|                                                   '  )\n",
    "print('=-=-=-=-=-=-=-=-=-=-=-=-=-=-=-=-=-=-=-=-=-=-=-=-=-=-=-'  )\n"
   ]
  }
 ],
 "metadata": {
  "kernelspec": {
   "display_name": "Python 3",
   "language": "python",
   "name": "python3"
  },
  "language_info": {
   "codemirror_mode": {
    "name": "ipython",
    "version": 3
   },
   "file_extension": ".py",
   "mimetype": "text/x-python",
   "name": "python",
   "nbconvert_exporter": "python",
   "pygments_lexer": "ipython3",
   "version": "3.7.6"
  }
 },
 "nbformat": 4,
 "nbformat_minor": 4
}
