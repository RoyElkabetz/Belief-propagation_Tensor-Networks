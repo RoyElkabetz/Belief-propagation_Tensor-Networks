{
 "cells": [
  {
   "cell_type": "code",
   "execution_count": 1,
   "metadata": {},
   "outputs": [],
   "source": [
    "import numpy as np\n",
    "import random\n",
    "import time\n",
    "import matplotlib.pyplot as plt\n",
    "import copy as cp\n",
    "import pickle\n",
    "import pandas as pd\n",
    "\n",
    "import RandomPEPS as rpeps\n",
    "import StructureMatrixGenerator as smg\n",
    "import trivialSimpleUpdate as tsu\n",
    "import DoubleEdgeFactorGraphs as defg\n",
    "import SimpleUpdate as su\n",
    "import bmpslib as bmps"
   ]
  },
  {
   "cell_type": "code",
   "execution_count": 2,
   "metadata": {},
   "outputs": [],
   "source": [
    "########################################################################################################################\n",
    "#                                                                                                                      #\n",
    "#                                    TRIVIAL SIMPLE UPDATE (TSU) ON RANDOM PEPS                                        #\n",
    "#                                                                                                                      #\n",
    "########################################################################################################################\n",
    "np.random.seed(1)\n",
    "\n",
    "# tSU parameters\n",
    "N, M = 5, 5\n",
    "bc = 'open'\n",
    "dw = 1e-6\n",
    "D_max = 3\n",
    "t_max = 100\n",
    "epsilon = 1e-10\n",
    "dumping = 0.2\n",
    "iterations = 30\n",
    "d = 2\n",
    "smat, _ = smg.finitePEPSobcStructureMatrixGenerator(N, M)\n",
    "tensors, weights = smg.randomTensornetGenerator(smat, d, D_max)\n",
    "n, m = smat.shape"
   ]
  },
  {
   "cell_type": "code",
   "execution_count": null,
   "metadata": {},
   "outputs": [],
   "source": [
    "# constructing the dual double-edge factor graph\n",
    "graph = defg.defg()\n",
    "graph = su.TNtoDEFGtransform(graph, tensors, weights, smat)\n",
    "graph.sumProduct(t_max, epsilon, dumping, printTime=1)\n",
    "graph.calculateFactorsBeliefs()\n",
    "\n",
    "### TODO ###\n",
    "# define termination criteria using 2 site RDM\n",
    "# check that tsu tensors weights list are disjoint\n",
    "# compare BP and tsu for parallel and series update"
   ]
  },
  {
   "cell_type": "code",
   "execution_count": 3,
   "metadata": {},
   "outputs": [],
   "source": [
    "# calculate the double site rdm\n",
    "tSU_rdm = []\n",
    "for i in range(m):\n",
    "    tSU_rdm.append(tsu.doubleSiteRDM(i, tensors, weights, smat))"
   ]
  },
  {
   "cell_type": "code",
   "execution_count": 4,
   "metadata": {},
   "outputs": [
    {
     "name": "stderr",
     "output_type": "stream",
     "text": [
      "/Users/royelkabetz/Git/QBPmodule/trivialSimpleUpdate.py:326: FutureWarning: Using a non-tuple sequence for multidimensional indexing is deprecated; use `arr[tuple(seq)]` instead of `arr[seq]`. In the future this will be interpreted as an array index, `arr[np.array(seq)]`, which will result either in an error or a different result.\n",
      "  leftDim = np.prod(shape[[leftIdx]])\n",
      "/Users/royelkabetz/Git/QBPmodule/trivialSimpleUpdate.py:327: FutureWarning: Using a non-tuple sequence for multidimensional indexing is deprecated; use `arr[tuple(seq)]` instead of `arr[seq]`. In the future this will be interpreted as an array index, `arr[np.array(seq)]`, which will result either in an error or a different result.\n",
      "  rightDim = np.prod(shape[[rightIdx]])\n"
     ]
    },
    {
     "name": "stdout",
     "output_type": "stream",
     "text": [
      "The ATD is: 1.7437484622443036e-08 at iteration 12\n"
     ]
    }
   ],
   "source": [
    "# trivial SU run\n",
    "for i in range(iterations):\n",
    "    tensors_next, weights_next = tsu.trivialsimpleUpdate(tensors,\n",
    "                                                         weights,\n",
    "                                                         smat,\n",
    "                                                         D_max)\n",
    "    ATD = 0\n",
    "    tSU_rdm_next = []\n",
    "    for j in range(m):\n",
    "        tSU_rdm_next.append(tsu.doubleSiteRDM(i, tensors_next, weights_next, smat))\n",
    "        ATD += tsu.traceDistance(tSU_rdm_next[j], tSU_rdm[j])\n",
    "        tSU_rdm[j] = tSU_rdm_next[j]\n",
    "    ATD /= m\n",
    "    if ATD < dw:\n",
    "        print('The ATD is: {} at iteration {}'.format(ATD, i))\n",
    "        tensors = tensors_next\n",
    "        weights = weights_next\n",
    "        break\n",
    "    tensors = tensors_next\n",
    "    weights = weights_next"
   ]
  },
  {
   "cell_type": "code",
   "execution_count": 5,
   "metadata": {},
   "outputs": [
    {
     "data": {
      "text/plain": [
       "'\\n# constructing the dual double-edge factor graph\\ngraph = defg.defg()\\ngraph = su.TNtoDEFGtransform(graph, tensors_tsu, weights_tsu, smat)\\ns = time.time()\\ngraph.sumProduct(t_max, epsilon, dumping, printTime=1)\\ntot = time.time() - s\\ngraph.calculateFactorsBeliefs()\\n\\n\\ntSU_1rdm = []\\nfor i in range(n):\\n    tSU_1rdm.append(su.singleSiteRDM(i, tensors_tsu, weights_tsu, smat))\\n\\nplt.figure()\\nplt.plot(range(len(errors_tsu)), errors_tsu)\\nplt.show()\\n'"
      ]
     },
     "execution_count": 5,
     "metadata": {},
     "output_type": "execute_result"
    }
   ],
   "source": [
    "'''\n",
    "# constructing the dual double-edge factor graph\n",
    "graph = defg.defg()\n",
    "graph = su.TNtoDEFGtransform(graph, tensors_tsu, weights_tsu, smat)\n",
    "s = time.time()\n",
    "graph.sumProduct(t_max, epsilon, dumping, printTime=1)\n",
    "tot = time.time() - s\n",
    "graph.calculateFactorsBeliefs()\n",
    "\n",
    "\n",
    "tSU_1rdm = []\n",
    "for i in range(n):\n",
    "    tSU_1rdm.append(su.singleSiteRDM(i, tensors_tsu, weights_tsu, smat))\n",
    "\n",
    "plt.figure()\n",
    "plt.plot(range(len(errors_tsu)), errors_tsu)\n",
    "plt.show()\n",
    "'''"
   ]
  },
  {
   "cell_type": "code",
   "execution_count": 6,
   "metadata": {},
   "outputs": [
    {
     "data": {
      "text/plain": [
       "'\\n# calculate two site RDMs\\ntSU_2rdm = []\\ntSU_2rdmMess = []\\nfor i in range(m):\\n    tSU_2rdm.append(tsu.doubleSiteRDM(i, tensors_tsu, weights_tsu, smat))\\n    tSU_2rdmMess.append(tsu.BPdoubleSiteRDM1(i, tensors_tsu, weights_tsu, smat, graph.messages_n2f))\\n\\nATD_tsu_Mess = 0\\nfor i in range(m):\\n    ATD_tsu_Mess += tsu.traceDistance(tSU_2rdm[i], tSU_2rdmMess[i])\\nprint(ATD_tsu_Mess / m)\\n\\n\\n'"
      ]
     },
     "execution_count": 6,
     "metadata": {},
     "output_type": "execute_result"
    }
   ],
   "source": [
    "'''\n",
    "# calculate two site RDMs\n",
    "tSU_2rdm = []\n",
    "tSU_2rdmMess = []\n",
    "for i in range(m):\n",
    "    tSU_2rdm.append(tsu.doubleSiteRDM(i, tensors_tsu, weights_tsu, smat))\n",
    "    tSU_2rdmMess.append(tsu.BPdoubleSiteRDM1(i, tensors_tsu, weights_tsu, smat, graph.messages_n2f))\n",
    "\n",
    "ATD_tsu_Mess = 0\n",
    "for i in range(m):\n",
    "    ATD_tsu_Mess += tsu.traceDistance(tSU_2rdm[i], tSU_2rdmMess[i])\n",
    "print(ATD_tsu_Mess / m)\n",
    "\n",
    "\n",
    "'''\n",
    "    "
   ]
  },
  {
   "cell_type": "code",
   "execution_count": 7,
   "metadata": {},
   "outputs": [
    {
     "data": {
      "text/plain": [
       "8.897045975742932e-05"
      ]
     },
     "execution_count": 7,
     "metadata": {},
     "output_type": "execute_result"
    }
   ],
   "source": [
    "8.897045975742932e-05"
   ]
  }
 ],
 "metadata": {
  "kernelspec": {
   "display_name": "Python 3",
   "language": "python",
   "name": "python3"
  },
  "language_info": {
   "codemirror_mode": {
    "name": "ipython",
    "version": 3
   },
   "file_extension": ".py",
   "mimetype": "text/x-python",
   "name": "python",
   "nbconvert_exporter": "python",
   "pygments_lexer": "ipython3",
   "version": "3.7.6"
  }
 },
 "nbformat": 4,
 "nbformat_minor": 4
}
